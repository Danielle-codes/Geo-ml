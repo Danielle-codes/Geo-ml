{
 "cells": [
  {
   "cell_type": "code",
   "execution_count": 1,
   "id": "263e8a44",
   "metadata": {},
   "outputs": [],
   "source": [
    "import petroeval as pet"
   ]
  },
  {
   "cell_type": "code",
   "execution_count": null,
   "id": "78e38ffe",
   "metadata": {},
   "outputs": [],
   "source": [
    "import numpy as np\n",
    "import pandas as pd\n",
    "import matplotlib.pyplot as plt\n",
    "import seaborn as sns\n",
    "import matplotlib.colors as colors \n",
    "from mpl_toolkits.axes_grid1 import make_axes_locatable\n",
    "\n",
    "import xgboost as xgb\n",
    "import sklearn.ensemble from "
   ]
  }
 ],
 "metadata": {
  "kernelspec": {
   "display_name": "Python 3 (ipykernel)",
   "language": "python",
   "name": "python3"
  },
  "language_info": {
   "codemirror_mode": {
    "name": "ipython",
    "version": 3
   },
   "file_extension": ".py",
   "mimetype": "text/x-python",
   "name": "python",
   "nbconvert_exporter": "python",
   "pygments_lexer": "ipython3",
   "version": "3.8.5"
  }
 },
 "nbformat": 4,
 "nbformat_minor": 5
}
