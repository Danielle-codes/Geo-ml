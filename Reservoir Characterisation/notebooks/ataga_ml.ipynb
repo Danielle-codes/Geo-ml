{
 "cells": [
  {
   "cell_type": "code",
   "execution_count": 1,
   "metadata": {},
   "outputs": [
    {
     "name": "stdout",
     "output_type": "stream",
     "text": [
      "Requirement already satisfied: petroeval in c:\\programdata\\anaconda3\\lib\\site-packages (1.1.5.4)\n",
      "Requirement already satisfied: pandas in c:\\programdata\\anaconda3\\lib\\site-packages (from petroeval) (1.3.4)\n",
      "Requirement already satisfied: numpy in c:\\programdata\\anaconda3\\lib\\site-packages (from petroeval) (1.20.3)\n",
      "Requirement already satisfied: lightgbm in c:\\programdata\\anaconda3\\lib\\site-packages (from petroeval) (3.3.0)\n",
      "Requirement already satisfied: lasio==0.28 in c:\\programdata\\anaconda3\\lib\\site-packages (from petroeval) (0.28)\n",
      "Requirement already satisfied: matplotlib in c:\\programdata\\anaconda3\\lib\\site-packages (from petroeval) (3.2.1)\n",
      "Requirement already satisfied: xgboost in c:\\programdata\\anaconda3\\lib\\site-packages (from petroeval) (1.4.2)\n",
      "Requirement already satisfied: scipy in c:\\programdata\\anaconda3\\lib\\site-packages (from lightgbm->petroeval) (1.8.0)\n",
      "Requirement already satisfied: scikit-learn!=0.22.0 in c:\\programdata\\anaconda3\\lib\\site-packages (from lightgbm->petroeval) (1.0.1)\n",
      "Requirement already satisfied: wheel in c:\\programdata\\anaconda3\\lib\\site-packages (from lightgbm->petroeval) (0.37.0)\n",
      "Requirement already satisfied: joblib>=0.11 in c:\\programdata\\anaconda3\\lib\\site-packages (from scikit-learn!=0.22.0->lightgbm->petroeval) (1.1.0)\n",
      "Requirement already satisfied: threadpoolctl>=2.0.0 in c:\\programdata\\anaconda3\\lib\\site-packages (from scikit-learn!=0.22.0->lightgbm->petroeval) (2.2.0)\n",
      "Requirement already satisfied: python-dateutil>=2.1 in c:\\programdata\\anaconda3\\lib\\site-packages (from matplotlib->petroeval) (2.8.2)\n",
      "Requirement already satisfied: pyparsing!=2.0.4,!=2.1.2,!=2.1.6,>=2.0.1 in c:\\programdata\\anaconda3\\lib\\site-packages (from matplotlib->petroeval) (3.0.4)\n",
      "Requirement already satisfied: cycler>=0.10 in c:\\programdata\\anaconda3\\lib\\site-packages (from matplotlib->petroeval) (0.11.0)\n",
      "Requirement already satisfied: kiwisolver>=1.0.1 in c:\\programdata\\anaconda3\\lib\\site-packages (from matplotlib->petroeval) (1.3.1)\n",
      "Requirement already satisfied: six>=1.5 in c:\\programdata\\anaconda3\\lib\\site-packages (from python-dateutil>=2.1->matplotlib->petroeval) (1.16.0)\n",
      "Requirement already satisfied: pytz>=2017.3 in c:\\programdata\\anaconda3\\lib\\site-packages (from pandas->petroeval) (2021.3)\n"
     ]
    },
    {
     "name": "stderr",
     "output_type": "stream",
     "text": [
      "WARNING: Ignoring invalid distribution -p (c:\\programdata\\anaconda3\\lib\\site-packages)\n",
      "WARNING: Ignoring invalid distribution -umpy (c:\\programdata\\anaconda3\\lib\\site-packages)\n",
      "WARNING: Ignoring invalid distribution -rapt (c:\\programdata\\anaconda3\\lib\\site-packages)\n",
      "WARNING: Ignoring invalid distribution -qdm (c:\\programdata\\anaconda3\\lib\\site-packages)\n",
      "WARNING: Ignoring invalid distribution -phinx (c:\\programdata\\anaconda3\\lib\\site-packages)\n",
      "WARNING: Ignoring invalid distribution -p (c:\\programdata\\anaconda3\\lib\\site-packages)\n",
      "WARNING: Ignoring invalid distribution -orch (c:\\programdata\\anaconda3\\lib\\site-packages)\n",
      "WARNING: Ignoring invalid distribution -okeh (c:\\programdata\\anaconda3\\lib\\site-packages)\n",
      "WARNING: Ignoring invalid distribution -ip (c:\\programdata\\anaconda3\\lib\\site-packages)\n",
      "WARNING: Ignoring invalid distribution - (c:\\programdata\\anaconda3\\lib\\site-packages)\n",
      "WARNING: Ignoring invalid distribution -ensorflow (c:\\programdata\\anaconda3\\lib\\site-packages)\n",
      "WARNING: Ignoring invalid distribution -atplotlib (c:\\programdata\\anaconda3\\lib\\site-packages)\n",
      "WARNING: Ignoring invalid distribution -andas (c:\\programdata\\anaconda3\\lib\\site-packages)\n",
      "WARNING: Ignoring invalid distribution -p (c:\\programdata\\anaconda3\\lib\\site-packages)\n",
      "WARNING: Ignoring invalid distribution -umpy (c:\\programdata\\anaconda3\\lib\\site-packages)\n",
      "WARNING: Ignoring invalid distribution -rapt (c:\\programdata\\anaconda3\\lib\\site-packages)\n",
      "WARNING: Ignoring invalid distribution -qdm (c:\\programdata\\anaconda3\\lib\\site-packages)\n",
      "WARNING: Ignoring invalid distribution -phinx (c:\\programdata\\anaconda3\\lib\\site-packages)\n",
      "WARNING: Ignoring invalid distribution -p (c:\\programdata\\anaconda3\\lib\\site-packages)\n",
      "WARNING: Ignoring invalid distribution -orch (c:\\programdata\\anaconda3\\lib\\site-packages)\n",
      "WARNING: Ignoring invalid distribution -okeh (c:\\programdata\\anaconda3\\lib\\site-packages)\n",
      "WARNING: Ignoring invalid distribution -ip (c:\\programdata\\anaconda3\\lib\\site-packages)\n",
      "WARNING: Ignoring invalid distribution - (c:\\programdata\\anaconda3\\lib\\site-packages)\n",
      "WARNING: Ignoring invalid distribution -ensorflow (c:\\programdata\\anaconda3\\lib\\site-packages)\n",
      "WARNING: Ignoring invalid distribution -atplotlib (c:\\programdata\\anaconda3\\lib\\site-packages)\n",
      "WARNING: Ignoring invalid distribution -andas (c:\\programdata\\anaconda3\\lib\\site-packages)\n",
      "WARNING: Ignoring invalid distribution -p (c:\\programdata\\anaconda3\\lib\\site-packages)\n",
      "WARNING: Ignoring invalid distribution -umpy (c:\\programdata\\anaconda3\\lib\\site-packages)\n",
      "WARNING: Ignoring invalid distribution -rapt (c:\\programdata\\anaconda3\\lib\\site-packages)\n",
      "WARNING: Ignoring invalid distribution -qdm (c:\\programdata\\anaconda3\\lib\\site-packages)\n",
      "WARNING: Ignoring invalid distribution -phinx (c:\\programdata\\anaconda3\\lib\\site-packages)\n",
      "WARNING: Ignoring invalid distribution -p (c:\\programdata\\anaconda3\\lib\\site-packages)\n",
      "WARNING: Ignoring invalid distribution -orch (c:\\programdata\\anaconda3\\lib\\site-packages)\n",
      "WARNING: Ignoring invalid distribution -okeh (c:\\programdata\\anaconda3\\lib\\site-packages)\n",
      "WARNING: Ignoring invalid distribution -ip (c:\\programdata\\anaconda3\\lib\\site-packages)\n",
      "WARNING: Ignoring invalid distribution - (c:\\programdata\\anaconda3\\lib\\site-packages)\n",
      "WARNING: Ignoring invalid distribution -ensorflow (c:\\programdata\\anaconda3\\lib\\site-packages)\n",
      "WARNING: Ignoring invalid distribution -atplotlib (c:\\programdata\\anaconda3\\lib\\site-packages)\n",
      "WARNING: Ignoring invalid distribution -andas (c:\\programdata\\anaconda3\\lib\\site-packages)\n",
      "WARNING: Ignoring invalid distribution -p (c:\\programdata\\anaconda3\\lib\\site-packages)\n",
      "WARNING: Ignoring invalid distribution -umpy (c:\\programdata\\anaconda3\\lib\\site-packages)\n",
      "WARNING: Ignoring invalid distribution -rapt (c:\\programdata\\anaconda3\\lib\\site-packages)\n",
      "WARNING: Ignoring invalid distribution -qdm (c:\\programdata\\anaconda3\\lib\\site-packages)\n",
      "WARNING: Ignoring invalid distribution -phinx (c:\\programdata\\anaconda3\\lib\\site-packages)\n",
      "WARNING: Ignoring invalid distribution -p (c:\\programdata\\anaconda3\\lib\\site-packages)\n",
      "WARNING: Ignoring invalid distribution -orch (c:\\programdata\\anaconda3\\lib\\site-packages)\n",
      "WARNING: Ignoring invalid distribution -okeh (c:\\programdata\\anaconda3\\lib\\site-packages)\n",
      "WARNING: Ignoring invalid distribution -ip (c:\\programdata\\anaconda3\\lib\\site-packages)\n",
      "WARNING: Ignoring invalid distribution - (c:\\programdata\\anaconda3\\lib\\site-packages)\n",
      "WARNING: Ignoring invalid distribution -ensorflow (c:\\programdata\\anaconda3\\lib\\site-packages)\n",
      "WARNING: Ignoring invalid distribution -atplotlib (c:\\programdata\\anaconda3\\lib\\site-packages)\n",
      "WARNING: Ignoring invalid distribution -andas (c:\\programdata\\anaconda3\\lib\\site-packages)\n",
      "WARNING: Ignoring invalid distribution -p (c:\\programdata\\anaconda3\\lib\\site-packages)\n",
      "WARNING: Ignoring invalid distribution -umpy (c:\\programdata\\anaconda3\\lib\\site-packages)\n",
      "WARNING: Ignoring invalid distribution -rapt (c:\\programdata\\anaconda3\\lib\\site-packages)\n",
      "WARNING: Ignoring invalid distribution -qdm (c:\\programdata\\anaconda3\\lib\\site-packages)\n",
      "WARNING: Ignoring invalid distribution -phinx (c:\\programdata\\anaconda3\\lib\\site-packages)\n",
      "WARNING: Ignoring invalid distribution -p (c:\\programdata\\anaconda3\\lib\\site-packages)\n",
      "WARNING: Ignoring invalid distribution -orch (c:\\programdata\\anaconda3\\lib\\site-packages)\n",
      "WARNING: Ignoring invalid distribution -okeh (c:\\programdata\\anaconda3\\lib\\site-packages)\n",
      "WARNING: Ignoring invalid distribution -ip (c:\\programdata\\anaconda3\\lib\\site-packages)\n",
      "WARNING: Ignoring invalid distribution - (c:\\programdata\\anaconda3\\lib\\site-packages)\n",
      "WARNING: Ignoring invalid distribution -ensorflow (c:\\programdata\\anaconda3\\lib\\site-packages)\n",
      "WARNING: Ignoring invalid distribution -atplotlib (c:\\programdata\\anaconda3\\lib\\site-packages)\n",
      "WARNING: Ignoring invalid distribution -andas (c:\\programdata\\anaconda3\\lib\\site-packages)\n",
      "WARNING: Ignoring invalid distribution -p (c:\\programdata\\anaconda3\\lib\\site-packages)\n",
      "WARNING: Ignoring invalid distribution -umpy (c:\\programdata\\anaconda3\\lib\\site-packages)\n",
      "WARNING: Ignoring invalid distribution -rapt (c:\\programdata\\anaconda3\\lib\\site-packages)\n",
      "WARNING: Ignoring invalid distribution -qdm (c:\\programdata\\anaconda3\\lib\\site-packages)\n",
      "WARNING: Ignoring invalid distribution -phinx (c:\\programdata\\anaconda3\\lib\\site-packages)\n",
      "WARNING: Ignoring invalid distribution -p (c:\\programdata\\anaconda3\\lib\\site-packages)\n",
      "WARNING: Ignoring invalid distribution -orch (c:\\programdata\\anaconda3\\lib\\site-packages)\n",
      "WARNING: Ignoring invalid distribution -okeh (c:\\programdata\\anaconda3\\lib\\site-packages)\n",
      "WARNING: Ignoring invalid distribution -ip (c:\\programdata\\anaconda3\\lib\\site-packages)\n",
      "WARNING: Ignoring invalid distribution - (c:\\programdata\\anaconda3\\lib\\site-packages)\n",
      "WARNING: Ignoring invalid distribution -ensorflow (c:\\programdata\\anaconda3\\lib\\site-packages)\n",
      "WARNING: Ignoring invalid distribution -atplotlib (c:\\programdata\\anaconda3\\lib\\site-packages)\n",
      "WARNING: Ignoring invalid distribution -andas (c:\\programdata\\anaconda3\\lib\\site-packages)\n",
      "WARNING: You are using pip version 21.3.1; however, version 24.2 is available.\n",
      "You should consider upgrading via the 'C:\\ProgramData\\Anaconda3\\python.exe -m pip install --upgrade pip' command.\n"
     ]
    }
   ],
   "source": [
    "!pip install petroeval"
   ]
  },
  {
   "cell_type": "code",
   "execution_count": 1,
   "metadata": {},
   "outputs": [],
   "source": [
    "# from pathlib import Path\n",
    "\n",
    "# import lasio\n",
    "import petroeval as pet\n",
    "import numpy as np\n",
    "import pandas as pd\n",
    "import matplotlib.pyplot as plt\n",
    "import matplotlib.colors as colors\n",
    "import seaborn as sns\n",
    "from mpl_toolkits.axes_grid1 import make_axes_locatable\n",
    "\n",
    "import xgboost as xgb\n",
    "from sklearn.ensemble import RandomForestClassifier\n",
    "import sklearn.metrics as sklm"
   ]
  },
  {
   "cell_type": "code",
   "execution_count": 2,
   "metadata": {},
   "outputs": [],
   "source": [
    "las = pet.read_lasio(r\"../data/train_wells/ataga 05.las\")\n",
    "test_df = las.df()"
   ]
  },
  {
   "cell_type": "code",
   "execution_count": 3,
   "metadata": {},
   "outputs": [
    {
     "data": {
      "text/html": [
       "<div>\n",
       "<style scoped>\n",
       "    .dataframe tbody tr th:only-of-type {\n",
       "        vertical-align: middle;\n",
       "    }\n",
       "\n",
       "    .dataframe tbody tr th {\n",
       "        vertical-align: top;\n",
       "    }\n",
       "\n",
       "    .dataframe thead th {\n",
       "        text-align: right;\n",
       "    }\n",
       "</style>\n",
       "<table border=\"1\" class=\"dataframe\">\n",
       "  <thead>\n",
       "    <tr style=\"text-align: right;\">\n",
       "      <th></th>\n",
       "      <th>CALI</th>\n",
       "      <th>DT</th>\n",
       "      <th>GR</th>\n",
       "      <th>ILD</th>\n",
       "      <th>LLS</th>\n",
       "      <th>MSFL</th>\n",
       "      <th>NPHI</th>\n",
       "      <th>RHOB</th>\n",
       "      <th>SP</th>\n",
       "      <th>DEPT_1</th>\n",
       "      <th>...</th>\n",
       "      <th>PHID_ATAGA</th>\n",
       "      <th>PHIDF_ATAGA</th>\n",
       "      <th>VSHF</th>\n",
       "      <th>PHIE_ATAGA</th>\n",
       "      <th>NTG</th>\n",
       "      <th>F_ATAGA</th>\n",
       "      <th>SWIRR_ATAGA</th>\n",
       "      <th>SW_ATAGA</th>\n",
       "      <th>PERM_ATAGA</th>\n",
       "      <th>PERM_EFF_ATAGA</th>\n",
       "    </tr>\n",
       "    <tr>\n",
       "      <th>DEPT</th>\n",
       "      <th></th>\n",
       "      <th></th>\n",
       "      <th></th>\n",
       "      <th></th>\n",
       "      <th></th>\n",
       "      <th></th>\n",
       "      <th></th>\n",
       "      <th></th>\n",
       "      <th></th>\n",
       "      <th></th>\n",
       "      <th></th>\n",
       "      <th></th>\n",
       "      <th></th>\n",
       "      <th></th>\n",
       "      <th></th>\n",
       "      <th></th>\n",
       "      <th></th>\n",
       "      <th></th>\n",
       "      <th></th>\n",
       "      <th></th>\n",
       "      <th></th>\n",
       "    </tr>\n",
       "  </thead>\n",
       "  <tbody>\n",
       "    <tr>\n",
       "      <th>4347.5</th>\n",
       "      <td>NaN</td>\n",
       "      <td>NaN</td>\n",
       "      <td>77.943199</td>\n",
       "      <td>NaN</td>\n",
       "      <td>NaN</td>\n",
       "      <td>NaN</td>\n",
       "      <td>NaN</td>\n",
       "      <td>NaN</td>\n",
       "      <td>88.919998</td>\n",
       "      <td>1325.118042</td>\n",
       "      <td>...</td>\n",
       "      <td>NaN</td>\n",
       "      <td>NaN</td>\n",
       "      <td>0.227323</td>\n",
       "      <td>NaN</td>\n",
       "      <td>0.772677</td>\n",
       "      <td>NaN</td>\n",
       "      <td>NaN</td>\n",
       "      <td>NaN</td>\n",
       "      <td>NaN</td>\n",
       "      <td>NaN</td>\n",
       "    </tr>\n",
       "    <tr>\n",
       "      <th>4348.0</th>\n",
       "      <td>NaN</td>\n",
       "      <td>NaN</td>\n",
       "      <td>77.943199</td>\n",
       "      <td>NaN</td>\n",
       "      <td>NaN</td>\n",
       "      <td>NaN</td>\n",
       "      <td>NaN</td>\n",
       "      <td>NaN</td>\n",
       "      <td>88.925201</td>\n",
       "      <td>1325.270386</td>\n",
       "      <td>...</td>\n",
       "      <td>NaN</td>\n",
       "      <td>NaN</td>\n",
       "      <td>0.227323</td>\n",
       "      <td>NaN</td>\n",
       "      <td>0.772677</td>\n",
       "      <td>NaN</td>\n",
       "      <td>NaN</td>\n",
       "      <td>NaN</td>\n",
       "      <td>NaN</td>\n",
       "      <td>NaN</td>\n",
       "    </tr>\n",
       "    <tr>\n",
       "      <th>4348.5</th>\n",
       "      <td>NaN</td>\n",
       "      <td>NaN</td>\n",
       "      <td>77.943199</td>\n",
       "      <td>NaN</td>\n",
       "      <td>NaN</td>\n",
       "      <td>NaN</td>\n",
       "      <td>NaN</td>\n",
       "      <td>NaN</td>\n",
       "      <td>88.930397</td>\n",
       "      <td>1325.422852</td>\n",
       "      <td>...</td>\n",
       "      <td>NaN</td>\n",
       "      <td>NaN</td>\n",
       "      <td>0.227323</td>\n",
       "      <td>NaN</td>\n",
       "      <td>0.772677</td>\n",
       "      <td>NaN</td>\n",
       "      <td>NaN</td>\n",
       "      <td>NaN</td>\n",
       "      <td>NaN</td>\n",
       "      <td>NaN</td>\n",
       "    </tr>\n",
       "    <tr>\n",
       "      <th>4349.0</th>\n",
       "      <td>NaN</td>\n",
       "      <td>NaN</td>\n",
       "      <td>77.943199</td>\n",
       "      <td>NaN</td>\n",
       "      <td>NaN</td>\n",
       "      <td>NaN</td>\n",
       "      <td>NaN</td>\n",
       "      <td>NaN</td>\n",
       "      <td>88.969498</td>\n",
       "      <td>1325.575195</td>\n",
       "      <td>...</td>\n",
       "      <td>NaN</td>\n",
       "      <td>NaN</td>\n",
       "      <td>0.227323</td>\n",
       "      <td>NaN</td>\n",
       "      <td>0.772677</td>\n",
       "      <td>NaN</td>\n",
       "      <td>NaN</td>\n",
       "      <td>NaN</td>\n",
       "      <td>NaN</td>\n",
       "      <td>NaN</td>\n",
       "    </tr>\n",
       "    <tr>\n",
       "      <th>4349.5</th>\n",
       "      <td>NaN</td>\n",
       "      <td>NaN</td>\n",
       "      <td>77.943199</td>\n",
       "      <td>-0.0569</td>\n",
       "      <td>NaN</td>\n",
       "      <td>NaN</td>\n",
       "      <td>NaN</td>\n",
       "      <td>NaN</td>\n",
       "      <td>89.614197</td>\n",
       "      <td>1325.727539</td>\n",
       "      <td>...</td>\n",
       "      <td>NaN</td>\n",
       "      <td>NaN</td>\n",
       "      <td>0.227323</td>\n",
       "      <td>NaN</td>\n",
       "      <td>0.772677</td>\n",
       "      <td>NaN</td>\n",
       "      <td>NaN</td>\n",
       "      <td>NaN</td>\n",
       "      <td>NaN</td>\n",
       "      <td>NaN</td>\n",
       "    </tr>\n",
       "  </tbody>\n",
       "</table>\n",
       "<p>5 rows × 25 columns</p>\n",
       "</div>"
      ],
      "text/plain": [
       "        CALI  DT         GR     ILD  LLS  MSFL  NPHI  RHOB         SP  \\\n",
       "DEPT                                                                    \n",
       "4347.5   NaN NaN  77.943199     NaN  NaN   NaN   NaN   NaN  88.919998   \n",
       "4348.0   NaN NaN  77.943199     NaN  NaN   NaN   NaN   NaN  88.925201   \n",
       "4348.5   NaN NaN  77.943199     NaN  NaN   NaN   NaN   NaN  88.930397   \n",
       "4349.0   NaN NaN  77.943199     NaN  NaN   NaN   NaN   NaN  88.969498   \n",
       "4349.5   NaN NaN  77.943199 -0.0569  NaN   NaN   NaN   NaN  89.614197   \n",
       "\n",
       "             DEPT_1  ...  PHID_ATAGA  PHIDF_ATAGA      VSHF  PHIE_ATAGA  \\\n",
       "DEPT                 ...                                                  \n",
       "4347.5  1325.118042  ...         NaN          NaN  0.227323         NaN   \n",
       "4348.0  1325.270386  ...         NaN          NaN  0.227323         NaN   \n",
       "4348.5  1325.422852  ...         NaN          NaN  0.227323         NaN   \n",
       "4349.0  1325.575195  ...         NaN          NaN  0.227323         NaN   \n",
       "4349.5  1325.727539  ...         NaN          NaN  0.227323         NaN   \n",
       "\n",
       "             NTG  F_ATAGA  SWIRR_ATAGA  SW_ATAGA  PERM_ATAGA  PERM_EFF_ATAGA  \n",
       "DEPT                                                                          \n",
       "4347.5  0.772677      NaN          NaN       NaN         NaN             NaN  \n",
       "4348.0  0.772677      NaN          NaN       NaN         NaN             NaN  \n",
       "4348.5  0.772677      NaN          NaN       NaN         NaN             NaN  \n",
       "4349.0  0.772677      NaN          NaN       NaN         NaN             NaN  \n",
       "4349.5  0.772677      NaN          NaN       NaN         NaN             NaN  \n",
       "\n",
       "[5 rows x 25 columns]"
      ]
     },
     "execution_count": 3,
     "metadata": {},
     "output_type": "execute_result"
    }
   ],
   "source": [
    "test_df.head()"
   ]
  },
  {
   "cell_type": "code",
   "execution_count": 4,
   "metadata": {},
   "outputs": [
    {
     "data": {
      "text/plain": [
       "{'Version': [HeaderItem(mnemonic=\"VERS\", unit=\"\", value=\"2.0\", descr=\"\"),\n",
       "  HeaderItem(mnemonic=\"WRAP\", unit=\"\", value=\"NO\", descr=\"\")],\n",
       " 'Well': [HeaderItem(mnemonic=\"STRT\", unit=\"ft\", value=\"4347.5\", descr=\"\"),\n",
       "  HeaderItem(mnemonic=\"STOP\", unit=\"ft\", value=\"14356.0\", descr=\"\"),\n",
       "  HeaderItem(mnemonic=\"STEP\", unit=\"ft\", value=\"0.5\", descr=\"\"),\n",
       "  HeaderItem(mnemonic=\"NULL\", unit=\"\", value=\"-999.25\", descr=\"\"),\n",
       "  HeaderItem(mnemonic=\"COMP\", unit=\"\", value=\"\", descr=\"COMPANY\"),\n",
       "  HeaderItem(mnemonic=\"WELL\", unit=\"\", value=\"ATAGA 5\", descr=\"WELL\"),\n",
       "  HeaderItem(mnemonic=\"FLD\", unit=\"\", value=\"\", descr=\"FIELD\"),\n",
       "  HeaderItem(mnemonic=\"LOC\", unit=\"\", value=\"\", descr=\"LOCATION\"),\n",
       "  HeaderItem(mnemonic=\"SRVC\", unit=\"\", value=\"\", descr=\"SERVICE COMPANY\"),\n",
       "  HeaderItem(mnemonic=\"DATE\", unit=\"\", value=\"2023-11-26 20:43:57   : Log Expo...),\n",
       "  HeaderItem(mnemonic=\"PROV\", unit=\"\", value=\"\", descr=\"PROVINCE\"),\n",
       "  HeaderItem(mnemonic=\"UWI\", unit=\"\", value=\"ATG05\", descr=\"UNIQUE WELL ID\"),\n",
       "  HeaderItem(mnemonic=\"API\", unit=\"\", value=\"\", descr=\"API NUMBER\")],\n",
       " 'Curves': [CurveItem(mnemonic=\"DEPT\", unit=\"ft\", value=\"\", descr=\"DEPTH\", original_mnemonic=\"DEPT\", data.shape=(20018,)),\n",
       "  CurveItem(mnemonic=\"CALI\", unit=\"in\", value=\"\", descr=\"CALI\", original_mnemonic=\"CALI\", data.shape=(20018,)),\n",
       "  CurveItem(mnemonic=\"DT\", unit=\"us/ft\", value=\"\", descr=\"DT\", original_mnemonic=\"DT\", data.shape=(20018,)),\n",
       "  CurveItem(mnemonic=\"GR\", unit=\"gAPI\", value=\"\", descr=\"GR\", original_mnemonic=\"GR\", data.shape=(20018,)),\n",
       "  CurveItem(mnemonic=\"ILD\", unit=\"ohm.m\", value=\"\", descr=\"ILD\", original_mnemonic=\"ILD\", data.shape=(20018,)),\n",
       "  CurveItem(mnemonic=\"LLS\", unit=\"ohm.m\", value=\"\", descr=\"LLS\", original_mnemonic=\"LLS\", data.shape=(20018,)),\n",
       "  CurveItem(mnemonic=\"MSFL\", unit=\"ohm.m\", value=\"\", descr=\"MSFL\", original_mnemonic=\"MSFL\", data.shape=(20018,)),\n",
       "  CurveItem(mnemonic=\"NPHI\", unit=\"ft3/ft3\", value=\"\", descr=\"NPHI\", original_mnemonic=\"NPHI\", data.shape=(20018,)),\n",
       "  CurveItem(mnemonic=\"RHOB\", unit=\"g/cm3\", value=\"\", descr=\"RHOB\", original_mnemonic=\"RHOB\", data.shape=(20018,)),\n",
       "  CurveItem(mnemonic=\"SP\", unit=\"mV\", value=\"\", descr=\"SP\", original_mnemonic=\"SP\", data.shape=(20018,)),\n",
       "  CurveItem(mnemonic=\"DEPT_1\", unit=\"_\", value=\"\", descr=\"DEPT_1\", original_mnemonic=\"DEPT_1\", data.shape=(20018,)),\n",
       "  CurveItem(mnemonic=\"ATAGA_LITHOLOGY\", unit=\"_\", value=\"\", descr=\"ATAGA_LITHOLOGY\", original_mnemonic=\"ATAGA_LITHOLOGY\", data.shape=(20018,)),\n",
       "  CurveItem(mnemonic=\"FLUIDTYPES\", unit=\"_\", value=\"\", descr=\"Fluid TYPES\", original_mnemonic=\"FLUIDTYPES\", data.shape=(20018,)),\n",
       "  CurveItem(mnemonic=\"IGR\", unit=\"_\", value=\"\", descr=\"IGR\", original_mnemonic=\"IGR\", data.shape=(20018,)),\n",
       "  CurveItem(mnemonic=\"VSH\", unit=\"%\", value=\"\", descr=\"Vsh\", original_mnemonic=\"VSH\", data.shape=(20018,)),\n",
       "  CurveItem(mnemonic=\"FL\", unit=\"_\", value=\"\", descr=\"Fl\", original_mnemonic=\"FL\", data.shape=(20018,)),\n",
       "  CurveItem(mnemonic=\"PHID_ATAGA\", unit=\"ft3/ft3\", value=\"\", descr=\"PHID_ATAGA\", original_mnemonic=\"PHID_ATAGA\", data.shape=(20018,)),\n",
       "  CurveItem(mnemonic=\"PHIDF_ATAGA\", unit=\"_\", value=\"\", descr=\"PHIDF_ATAGA\", original_mnemonic=\"PHIDF_ATAGA\", data.shape=(20018,)),\n",
       "  CurveItem(mnemonic=\"VSHF\", unit=\"_\", value=\"\", descr=\"VshF\", original_mnemonic=\"VSHF\", data.shape=(20018,)),\n",
       "  CurveItem(mnemonic=\"PHIE_ATAGA\", unit=\"ft3/ft3\", value=\"\", descr=\"PHIE_ATAGA\", original_mnemonic=\"PHIE_ATAGA\", data.shape=(20018,)),\n",
       "  CurveItem(mnemonic=\"NTG\", unit=\"_\", value=\"\", descr=\"NTG\", original_mnemonic=\"NTG\", data.shape=(20018,)),\n",
       "  CurveItem(mnemonic=\"F_ATAGA\", unit=\"_\", value=\"\", descr=\"F_ATAGA\", original_mnemonic=\"F_ATAGA\", data.shape=(20018,)),\n",
       "  CurveItem(mnemonic=\"SWIRR_ATAGA\", unit=\"_\", value=\"\", descr=\"SWIRR_ATAGA\", original_mnemonic=\"SWIRR_ATAGA\", data.shape=(20018,)),\n",
       "  CurveItem(mnemonic=\"SW_ATAGA\", unit=\"_\", value=\"\", descr=\"SW_ATAGA\", original_mnemonic=\"SW_ATAGA\", data.shape=(20018,)),\n",
       "  CurveItem(mnemonic=\"PERM_ATAGA\", unit=\"mD\", value=\"\", descr=\"PERM_ATAGA\", original_mnemonic=\"PERM_ATAGA\", data.shape=(20018,)),\n",
       "  CurveItem(mnemonic=\"PERM_EFF_ATAGA\", unit=\"mD\", value=\"\", descr=\"PERM_EFF_ATAGA\", original_mnemonic=\"PERM_EFF_ATAGA\", data.shape=(20018,))],\n",
       " 'Parameter': [],\n",
       " 'Other': ''}"
      ]
     },
     "execution_count": 4,
     "metadata": {},
     "output_type": "execute_result"
    }
   ],
   "source": [
    "las.header"
   ]
  },
  {
   "cell_type": "code",
   "execution_count": 5,
   "metadata": {},
   "outputs": [
    {
     "data": {
      "text/plain": [
       "3.0    0.671246\n",
       "2.0    0.174443\n",
       "1.0    0.153262\n",
       "Name: FLUIDTYPES, dtype: float64"
      ]
     },
     "execution_count": 5,
     "metadata": {},
     "output_type": "execute_result"
    }
   ],
   "source": [
    "test_df.FLUIDTYPES.value_counts()/test_df.shape[0]"
   ]
  },
  {
   "cell_type": "code",
   "execution_count": 6,
   "metadata": {},
   "outputs": [
    {
     "data": {
      "text/plain": [
       "CALI               0.695474\n",
       "DT                 0.869917\n",
       "GR                 0.000000\n",
       "ILD                0.051554\n",
       "LLS                0.960985\n",
       "MSFL               0.960735\n",
       "NPHI               0.682086\n",
       "RHOB               0.669947\n",
       "SP                 0.050904\n",
       "DEPT_1             0.000000\n",
       "ATAGA_LITHOLOGY    0.000000\n",
       "FLUIDTYPES         0.001049\n",
       "IGR                0.000000\n",
       "VSH                0.000000\n",
       "FL                 0.000000\n",
       "PHID_ATAGA         0.669947\n",
       "PHIDF_ATAGA        0.669947\n",
       "VSHF               0.000000\n",
       "PHIE_ATAGA         0.669947\n",
       "NTG                0.000000\n",
       "F_ATAGA            0.669947\n",
       "SWIRR_ATAGA        0.669947\n",
       "SW_ATAGA           0.052802\n",
       "PERM_ATAGA         0.669947\n",
       "PERM_EFF_ATAGA     0.669947\n",
       "dtype: float64"
      ]
     },
     "execution_count": 6,
     "metadata": {},
     "output_type": "execute_result"
    }
   ],
   "source": [
    "test_df.isna().sum()/test_df.shape[0]"
   ]
  },
  {
   "cell_type": "code",
   "execution_count": 7,
   "metadata": {},
   "outputs": [],
   "source": [
    "las1 = pet.read_lasio(\"../data/train_wells/ataga 07.las\")\n",
    "las2 = pet.read_lasio(\"../data/train_wells/ataga 10.las\")\n",
    "las3 = pet.read_lasio(\"../data/train_wells/ataga 11.las\")\n",
    "train_df1 = las1.df()\n",
    "train_df2 = las2.df()\n",
    "train_df3 = las3.df()"
   ]
  },
  {
   "cell_type": "code",
   "execution_count": 8,
   "metadata": {},
   "outputs": [],
   "source": [
    "train_df1 = train_df1[[\"GR\", \"RHOB\", \"ILD\", \"SP\", \"NPHI\", \"FLUIDTYPES\"]]\n",
    "train_df2 = train_df2[[\"GR\", \"RHOB\", \"ILD\", \"SP\", \"NPHI\", \"FLUIDTYPES\"]]\n",
    "train_df3 = train_df3[[\"GR\", \"RHOB\", \"ILD\", \"SP\", \"NPHI\", \"FLUIDTYPES\"]]"
   ]
  },
  {
   "cell_type": "code",
   "execution_count": 9,
   "metadata": {},
   "outputs": [
    {
     "data": {
      "text/plain": [
       "GR            0.350275\n",
       "RHOB          0.512299\n",
       "ILD           0.328887\n",
       "SP            0.059084\n",
       "NPHI          0.547817\n",
       "FLUIDTYPES    0.149588\n",
       "dtype: float64"
      ]
     },
     "execution_count": 9,
     "metadata": {},
     "output_type": "execute_result"
    }
   ],
   "source": [
    "train_df = pd.concat((train_df1, train_df2, train_df3))\n",
    "train_df.isna().sum()/train_df.shape[0]"
   ]
  },
  {
   "cell_type": "code",
   "execution_count": 10,
   "metadata": {},
   "outputs": [
    {
     "data": {
      "text/plain": [
       "(61997, 6)"
      ]
     },
     "execution_count": 10,
     "metadata": {},
     "output_type": "execute_result"
    }
   ],
   "source": [
    "train_df.shape"
   ]
  },
  {
   "cell_type": "code",
   "execution_count": 11,
   "metadata": {},
   "outputs": [],
   "source": [
    "train_df.dropna(subset=['FLUIDTYPES'], inplace=True)"
   ]
  },
  {
   "cell_type": "code",
   "execution_count": 12,
   "metadata": {},
   "outputs": [],
   "source": [
    "train_df.fillna(-999, inplace=True)"
   ]
  },
  {
   "cell_type": "code",
   "execution_count": 13,
   "metadata": {},
   "outputs": [
    {
     "data": {
      "text/plain": [
       "GR            0.0\n",
       "RHOB          0.0\n",
       "ILD           0.0\n",
       "SP            0.0\n",
       "NPHI          0.0\n",
       "FLUIDTYPES    0.0\n",
       "dtype: float64"
      ]
     },
     "execution_count": 13,
     "metadata": {},
     "output_type": "execute_result"
    }
   ],
   "source": [
    "train_df.isna().sum()/train_df.shape[0]"
   ]
  },
  {
   "cell_type": "code",
   "execution_count": 14,
   "metadata": {},
   "outputs": [
    {
     "data": {
      "text/plain": [
       "(52723, 6)"
      ]
     },
     "execution_count": 14,
     "metadata": {},
     "output_type": "execute_result"
    }
   ],
   "source": [
    "train_df.shape"
   ]
  },
  {
   "cell_type": "code",
   "execution_count": 15,
   "metadata": {},
   "outputs": [],
   "source": [
    "labels = train_df.FLUIDTYPES\n",
    "features = train_df.drop(\"FLUIDTYPES\", axis=1)"
   ]
  },
  {
   "cell_type": "code",
   "execution_count": 17,
   "metadata": {},
   "outputs": [
    {
     "name": "stdout",
     "output_type": "stream",
     "text": [
      "[10:45:01] WARNING: C:/Users/Administrator/workspace/xgboost-win64_release_1.4.0/src/learner.cc:573: \n",
      "Parameters: { \"verbose\" } might not be used.\n",
      "\n",
      "  This may not be accurate due to some parameters are only used in language bindings but\n",
      "  passed down to XGBoost core.  Or some parameters are not used but slip through this\n",
      "  verification. Please open an issue if you find above cases.\n",
      "\n",
      "\n",
      "[10:45:01] WARNING: C:/Users/Administrator/workspace/xgboost-win64_release_1.4.0/src/learner.cc:1095: Starting in XGBoost 1.3.0, the default evaluation metric used with the objective 'multi:softprob' was changed from 'merror' to 'mlogloss'. Explicitly set eval_metric if you'd like to restore the old behavior.\n"
     ]
    },
    {
     "data": {
      "text/plain": [
       "XGBClassifier(base_score=0.5, booster='gbtree', colsample_bylevel=1,\n",
       "              colsample_bynode=1, colsample_bytree=1, gamma=0, gpu_id=-1,\n",
       "              importance_type='gain', interaction_constraints='',\n",
       "              learning_rate=0.300000012, max_delta_step=0, max_depth=6,\n",
       "              min_child_weight=1, missing=nan, monotone_constraints='()',\n",
       "              n_estimators=1000, n_jobs=8, num_parallel_tree=1,\n",
       "              objective='multi:softprob', random_state=0, reg_alpha=0,\n",
       "              reg_lambda=1, scale_pos_weight=None, subsample=1,\n",
       "              tree_method='exact', validate_parameters=1, verbose=100,\n",
       "              verbosity=None)"
      ]
     },
     "execution_count": 17,
     "metadata": {},
     "output_type": "execute_result"
    }
   ],
   "source": [
    "# model = RandomForestClassifier(n_estimators=100, verbose=2)\n",
    "model = xgb.XGBClassifier(n_estimators=1000, max_depth=6, verbose=100)\n",
    "model.fit(features, labels)"
   ]
  },
  {
   "cell_type": "code",
   "execution_count": 18,
   "metadata": {},
   "outputs": [],
   "source": [
    "test_labels = test_df.FLUIDTYPES.fillna(3).values"
   ]
  },
  {
   "cell_type": "code",
   "execution_count": 20,
   "metadata": {},
   "outputs": [],
   "source": [
    "test_df = test_df.fillna(-999)\n",
    "# test_df = test_df[[\"GR\", \"DENS\", \"RES\", \"NPHI\"]]\n",
    "test_df = test_df[[\"GR\", \"RHOB\", \"ILD\", \"SP\", \"NPHI\"]]"
   ]
  },
  {
   "cell_type": "code",
   "execution_count": 27,
   "metadata": {},
   "outputs": [
    {
     "name": "stderr",
     "output_type": "stream",
     "text": [
      "[Parallel(n_jobs=1)]: Using backend SequentialBackend with 1 concurrent workers.\n",
      "[Parallel(n_jobs=1)]: Done   1 out of   1 | elapsed:    0.0s remaining:    0.0s\n",
      "[Parallel(n_jobs=1)]: Done 100 out of 100 | elapsed:    0.2s finished\n"
     ]
    }
   ],
   "source": [
    "pred = model.predict(test_df)"
   ]
  },
  {
   "cell_type": "code",
   "execution_count": 28,
   "metadata": {},
   "outputs": [],
   "source": [
    "def evaluate_predictions(actual, pred):\n",
    "    print(f\"accuracy is: {sklm.accuracy_score(actual, pred)}\")\n",
    "    print(f\"f1 score is: {sklm.f1_score(actual, pred, average='weighted')}\")\n",
    "    print(f\"precision is: {sklm.precision_score(actual, pred, average='weighted')}\")\n",
    "    print(f\"recall is: {sklm.recall_score(actual, pred, average='weighted')}\")"
   ]
  },
  {
   "cell_type": "code",
   "execution_count": 29,
   "metadata": {},
   "outputs": [
    {
     "name": "stdout",
     "output_type": "stream",
     "text": [
      "accuracy is: 0.9526925766809871\n",
      "f1 score is: 0.9511095887217529\n",
      "precision is: 0.9534499507141011\n",
      "recall is: 0.9526925766809871\n"
     ]
    }
   ],
   "source": [
    "evaluate_predictions(test_labels.ravel(), pred)"
   ]
  },
  {
   "cell_type": "code",
   "execution_count": 30,
   "metadata": {},
   "outputs": [],
   "source": [
    "test_df[\"Predicted_Fluid\"] = pred\n",
    "test_df[\"FLUIDTYPES\"] = test_labels"
   ]
  },
  {
   "cell_type": "code",
   "execution_count": 32,
   "metadata": {},
   "outputs": [],
   "source": [
    "def make_facies_log_plot(logs, x1, x2, x3, x4, x5, Depth=False):\n",
    "\n",
    "    logs = logs.fillna(0)\n",
    "    if Depth == False:\n",
    "        logs['Depth'] = logs.index\n",
    "        Depth = 'Depth'\n",
    "        ztop=logs.Depth.min(); zbot=logs.Depth.max()\n",
    "    \n",
    "    else:\n",
    "        logs['Depth'] = logs[Depth]\n",
    "        Depth = 'Depth'\n",
    "        ztop=logs.Depth.min(); zbot=logs.Depth.max()\n",
    "        \n",
    "    logs = logs.sort_values(by='Depth', ascending=True)\n",
    "\n",
    "    facies_colors = [\n",
    "        '#196F3D', '#FF0000', '#00FFFF', '#000000'\n",
    "    ]\n",
    "\n",
    "    facies_labels = [\n",
    "        'Gas', 'Oil', 'Water', 'Undifferentiated'\n",
    "    ]\n",
    "\n",
    "    facies_colormap = {}\n",
    "    for ind, label in enumerate(facies_labels):\n",
    "        facies_colormap[label] = facies_colors[ind]\n",
    "\n",
    "    no = 4\n",
    "    #no = len(list(dict(logs[target].value_counts())))\n",
    "    cmap_facies = colors.ListedColormap(\n",
    "            facies_colors[0 : no], 'indexed'\n",
    "            )\n",
    "\n",
    "    cluster=np.repeat(np.expand_dims(logs['FLUIDTYPES'].values,1), 100, 1)\n",
    "    cluster1=np.repeat(np.expand_dims(logs['Predicted_Fluid'].values,1), 100, 1)\n",
    "    \n",
    "    f, ax = plt.subplots(nrows=1, ncols=7, figsize=(12, 12))\n",
    "    ax[0].plot(logs[x1], logs.Depth, '-g')\n",
    "    ax[1].plot(logs[x2], logs.Depth, '-')\n",
    "    ax[2].plot(logs[x3], logs.Depth, '-', color='0.5')\n",
    "    ax[3].plot(logs[x4], logs.Depth, '-', color='r')\n",
    "    ax[4].plot(logs[x5], logs.Depth, '-', color='black')\n",
    "    im=ax[5].imshow(cluster, interpolation='none', aspect='auto',\n",
    "                    cmap=cmap_facies,vmin=0,vmax=4)\n",
    "    im1=ax[6].imshow(cluster1, interpolation='none', aspect='auto',\n",
    "                    cmap=cmap_facies,vmin=0,vmax=4)\n",
    "    \n",
    "    divider = make_axes_locatable(ax[6])\n",
    "    cax = divider.append_axes(\"right\", size=\"20%\", pad=0.05)\n",
    "    cbar=plt.colorbar(im, cax=cax)\n",
    "    cbar.set_label((50*' ').join([\n",
    "        'Gas', 'Oil', 'Water', 'Undifferentiated'\n",
    "    ]))\n",
    "    cbar.set_ticks(range(0,1)); cbar.set_ticklabels('')\n",
    "    cbar1=plt.colorbar(im1, cax=cax)\n",
    "    cbar1.set_label((50*' ').join([\n",
    "        'Gas', 'Oil', 'Water', 'Undifferentiated'\n",
    "    ]))\n",
    "    cbar1.set_ticks(range(0,1)); cbar1.set_ticklabels('')\n",
    "    \n",
    "    for i in range(len(ax)-2):\n",
    "        ax[i].set_ylim(ztop,zbot)\n",
    "        ax[i].invert_yaxis()\n",
    "        ax[i].grid()\n",
    "        ax[i].locator_params(axis='x', nbins=3)\n",
    "    \n",
    "    ax[0].set_xlabel(x1)\n",
    "    ax[0].set_xlim(0, logs[x1].max())\n",
    "    ax[0].set_ylabel(\"Depth (ft)\")\n",
    "    ax[1].set_xlabel(x2)\n",
    "    ax[1].set_xlim(1.8, logs[x2].max())\n",
    "    ax[2].set_xlabel(x3)\n",
    "    ax[2].set_xlim(0, logs[x3].max())\n",
    "    ax[3].set_xlabel(x4)\n",
    "    ax[3].set_xlim(0, logs[x4].max())\n",
    "    ax[4].set_xlabel(x5)\n",
    "    ax[4].set_xscale('log')\n",
    "    ax[4].set_xlim(logs[x5].min(), logs[x5].max())\n",
    "    ax[5].set_xlabel('Actual Fluid')\n",
    "    ax[6].set_xlabel('Predicted Fluid')\n",
    "    \n",
    "    ax[1].set_yticklabels([]); ax[2].set_yticklabels([]); ax[3].set_yticklabels([])\n",
    "    ax[4].set_yticklabels([]); ax[5].set_yticklabels([]); ax[6].set_yticklabels([])\n",
    "    ax[5].set_xticklabels([]), ax[6].set_xticklabels([])\n",
    "    f.suptitle('Well: ATAGA 5', fontsize=14,y=0.94)"
   ]
  },
  {
   "cell_type": "code",
   "execution_count": 33,
   "metadata": {},
   "outputs": [
    {
     "data": {
      "image/png": "[encoded data removed]",
      "text/plain": [
       "<Figure size 864x864 with 8 Axes>"
      ]
     },
     "metadata": {
      "needs_background": "light"
     },
     "output_type": "display_data"
    }
   ],
   "source": [
    "# make_facies_log_plot(test_df.loc[(test_df.index >= 13000) & (test_df.index <= 14200)], \"GR\", \"RHOB\", \"NPHI\", \"SP\", \"ILD\")\n",
    "make_facies_log_plot(test_df, \"GR\", \"RHOB\", \"NPHI\", \"SP\", \"ILD\")"
   ]
  },
  {
   "cell_type": "code",
   "execution_count": 34,
   "metadata": {},
   "outputs": [
    {
     "data": {
      "text/plain": [
       "3.0    0.672295\n",
       "2.0    0.174443\n",
       "1.0    0.153262\n",
       "Name: FLUIDTYPES, dtype: float64"
      ]
     },
     "execution_count": 34,
     "metadata": {},
     "output_type": "execute_result"
    }
   ],
   "source": [
    "test_df.FLUIDTYPES.value_counts()/test_df.shape[0]"
   ]
  },
  {
   "cell_type": "code",
   "execution_count": 35,
   "metadata": {},
   "outputs": [
    {
     "data": {
      "text/plain": [
       "3.0    0.690628\n",
       "1.0    0.167249\n",
       "2.0    0.142122\n",
       "Name: Predicted_Fluid, dtype: float64"
      ]
     },
     "execution_count": 35,
     "metadata": {},
     "output_type": "execute_result"
    }
   ],
   "source": [
    "test_df.Predicted_Fluid.value_counts()/test_df.shape[0]"
   ]
  },
  {
   "cell_type": "code",
   "execution_count": 36,
   "metadata": {},
   "outputs": [],
   "source": [
    "test_df.to_csv(\"../data/results/ataga_05_predicted_xgb.csv\", index=False)"
   ]
  },
  {
   "cell_type": "code",
   "execution_count": 37,
   "metadata": {},
   "outputs": [],
   "source": [
    "test_df = pd.read_csv(\"../data/results/ataga_05_predicted.csv\")"
   ]
  },
  {
   "cell_type": "markdown",
   "metadata": {},
   "source": [
    "0 = Gas\n",
    "1 = Oil\n",
    "2 = Water\n",
    "3 = Undifferentiated zone"
   ]
  },
  {
   "cell_type": "code",
   "execution_count": null,
   "metadata": {},
   "outputs": [],
   "source": []
  }
 ],
 "metadata": {
  "kernelspec": {
   "display_name": "Python 3 (ipykernel)",
   "language": "python",
   "name": "python3"
  },
  "language_info": {
   "codemirror_mode": {
    "name": "ipython",
    "version": 3
   },
   "file_extension": ".py",
   "mimetype": "text/x-python",
   "name": "python",
   "nbconvert_exporter": "python",
   "pygments_lexer": "ipython3",
   "version": "3.8.5"
  }
 },
 "nbformat": 4,
 "nbformat_minor": 2
}
