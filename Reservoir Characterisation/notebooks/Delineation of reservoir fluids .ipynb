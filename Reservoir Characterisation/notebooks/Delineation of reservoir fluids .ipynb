{
 "cells": [
  {
   "cell_type": "code",
   "execution_count": 1,
   "id": "cb030184",
   "metadata": {},
   "outputs": [],
   "source": [
    "import petroeval as pet"
   ]
  },
  {
   "cell_type": "code",
   "execution_count": 2,
   "id": "a1236d96",
   "metadata": {},
   "outputs": [],
   "source": [
    "import pandas as pd\n",
    "import matplotlib.pyplot as plt\n",
    "import seaborn as sns\n",
    "import matplotlib.colors as colors\n",
    "import numpy as np \n",
    "from mpl_toolkits.axes_grid1 import make_axes_locatable\n",
    "\n",
    "import xgboost as xgb\n",
    "from sklearn.ensemble import RandomForestClassifier\n",
    "import sklearn.metrics as sklm "
   ]
  },
  {
   "cell_type": "code",
   "execution_count": 3,
   "id": "41e63776",
   "metadata": {},
   "outputs": [],
   "source": [
    "las = pet.read_lasio('../data/train_wells/ataga 05.las')\n",
    "test_df = las.df()"
   ]
  },
  {
   "cell_type": "code",
   "execution_count": 4,
   "id": "cd61df3d",
   "metadata": {},
   "outputs": [
    {
     "data": {
      "text/html": [
       "<div>\n",
       "<style scoped>\n",
       "    .dataframe tbody tr th:only-of-type {\n",
       "        vertical-align: middle;\n",
       "    }\n",
       "\n",
       "    .dataframe tbody tr th {\n",
       "        vertical-align: top;\n",
       "    }\n",
       "\n",
       "    .dataframe thead th {\n",
       "        text-align: right;\n",
       "    }\n",
       "</style>\n",
       "<table border=\"1\" class=\"dataframe\">\n",
       "  <thead>\n",
       "    <tr style=\"text-align: right;\">\n",
       "      <th></th>\n",
       "      <th>CALI</th>\n",
       "      <th>DT</th>\n",
       "      <th>GR</th>\n",
       "      <th>ILD</th>\n",
       "      <th>LLS</th>\n",
       "      <th>MSFL</th>\n",
       "      <th>NPHI</th>\n",
       "      <th>RHOB</th>\n",
       "      <th>SP</th>\n",
       "      <th>DEPT_1</th>\n",
       "      <th>...</th>\n",
       "      <th>PHID_ATAGA</th>\n",
       "      <th>PHIDF_ATAGA</th>\n",
       "      <th>VSHF</th>\n",
       "      <th>PHIE_ATAGA</th>\n",
       "      <th>NTG</th>\n",
       "      <th>F_ATAGA</th>\n",
       "      <th>SWIRR_ATAGA</th>\n",
       "      <th>SW_ATAGA</th>\n",
       "      <th>PERM_ATAGA</th>\n",
       "      <th>PERM_EFF_ATAGA</th>\n",
       "    </tr>\n",
       "    <tr>\n",
       "      <th>DEPT</th>\n",
       "      <th></th>\n",
       "      <th></th>\n",
       "      <th></th>\n",
       "      <th></th>\n",
       "      <th></th>\n",
       "      <th></th>\n",
       "      <th></th>\n",
       "      <th></th>\n",
       "      <th></th>\n",
       "      <th></th>\n",
       "      <th></th>\n",
       "      <th></th>\n",
       "      <th></th>\n",
       "      <th></th>\n",
       "      <th></th>\n",
       "      <th></th>\n",
       "      <th></th>\n",
       "      <th></th>\n",
       "      <th></th>\n",
       "      <th></th>\n",
       "      <th></th>\n",
       "    </tr>\n",
       "  </thead>\n",
       "  <tbody>\n",
       "    <tr>\n",
       "      <th>4347.5</th>\n",
       "      <td>NaN</td>\n",
       "      <td>NaN</td>\n",
       "      <td>77.943199</td>\n",
       "      <td>NaN</td>\n",
       "      <td>NaN</td>\n",
       "      <td>NaN</td>\n",
       "      <td>NaN</td>\n",
       "      <td>NaN</td>\n",
       "      <td>88.919998</td>\n",
       "      <td>1325.118042</td>\n",
       "      <td>...</td>\n",
       "      <td>NaN</td>\n",
       "      <td>NaN</td>\n",
       "      <td>0.227323</td>\n",
       "      <td>NaN</td>\n",
       "      <td>0.772677</td>\n",
       "      <td>NaN</td>\n",
       "      <td>NaN</td>\n",
       "      <td>NaN</td>\n",
       "      <td>NaN</td>\n",
       "      <td>NaN</td>\n",
       "    </tr>\n",
       "    <tr>\n",
       "      <th>4348.0</th>\n",
       "      <td>NaN</td>\n",
       "      <td>NaN</td>\n",
       "      <td>77.943199</td>\n",
       "      <td>NaN</td>\n",
       "      <td>NaN</td>\n",
       "      <td>NaN</td>\n",
       "      <td>NaN</td>\n",
       "      <td>NaN</td>\n",
       "      <td>88.925201</td>\n",
       "      <td>1325.270386</td>\n",
       "      <td>...</td>\n",
       "      <td>NaN</td>\n",
       "      <td>NaN</td>\n",
       "      <td>0.227323</td>\n",
       "      <td>NaN</td>\n",
       "      <td>0.772677</td>\n",
       "      <td>NaN</td>\n",
       "      <td>NaN</td>\n",
       "      <td>NaN</td>\n",
       "      <td>NaN</td>\n",
       "      <td>NaN</td>\n",
       "    </tr>\n",
       "    <tr>\n",
       "      <th>4348.5</th>\n",
       "      <td>NaN</td>\n",
       "      <td>NaN</td>\n",
       "      <td>77.943199</td>\n",
       "      <td>NaN</td>\n",
       "      <td>NaN</td>\n",
       "      <td>NaN</td>\n",
       "      <td>NaN</td>\n",
       "      <td>NaN</td>\n",
       "      <td>88.930397</td>\n",
       "      <td>1325.422852</td>\n",
       "      <td>...</td>\n",
       "      <td>NaN</td>\n",
       "      <td>NaN</td>\n",
       "      <td>0.227323</td>\n",
       "      <td>NaN</td>\n",
       "      <td>0.772677</td>\n",
       "      <td>NaN</td>\n",
       "      <td>NaN</td>\n",
       "      <td>NaN</td>\n",
       "      <td>NaN</td>\n",
       "      <td>NaN</td>\n",
       "    </tr>\n",
       "    <tr>\n",
       "      <th>4349.0</th>\n",
       "      <td>NaN</td>\n",
       "      <td>NaN</td>\n",
       "      <td>77.943199</td>\n",
       "      <td>NaN</td>\n",
       "      <td>NaN</td>\n",
       "      <td>NaN</td>\n",
       "      <td>NaN</td>\n",
       "      <td>NaN</td>\n",
       "      <td>88.969498</td>\n",
       "      <td>1325.575195</td>\n",
       "      <td>...</td>\n",
       "      <td>NaN</td>\n",
       "      <td>NaN</td>\n",
       "      <td>0.227323</td>\n",
       "      <td>NaN</td>\n",
       "      <td>0.772677</td>\n",
       "      <td>NaN</td>\n",
       "      <td>NaN</td>\n",
       "      <td>NaN</td>\n",
       "      <td>NaN</td>\n",
       "      <td>NaN</td>\n",
       "    </tr>\n",
       "    <tr>\n",
       "      <th>4349.5</th>\n",
       "      <td>NaN</td>\n",
       "      <td>NaN</td>\n",
       "      <td>77.943199</td>\n",
       "      <td>-0.0569</td>\n",
       "      <td>NaN</td>\n",
       "      <td>NaN</td>\n",
       "      <td>NaN</td>\n",
       "      <td>NaN</td>\n",
       "      <td>89.614197</td>\n",
       "      <td>1325.727539</td>\n",
       "      <td>...</td>\n",
       "      <td>NaN</td>\n",
       "      <td>NaN</td>\n",
       "      <td>0.227323</td>\n",
       "      <td>NaN</td>\n",
       "      <td>0.772677</td>\n",
       "      <td>NaN</td>\n",
       "      <td>NaN</td>\n",
       "      <td>NaN</td>\n",
       "      <td>NaN</td>\n",
       "      <td>NaN</td>\n",
       "    </tr>\n",
       "  </tbody>\n",
       "</table>\n",
       "<p>5 rows × 25 columns</p>\n",
       "</div>"
      ],
      "text/plain": [
       "        CALI  DT         GR     ILD  LLS  MSFL  NPHI  RHOB         SP  \\\n",
       "DEPT                                                                    \n",
       "4347.5   NaN NaN  77.943199     NaN  NaN   NaN   NaN   NaN  88.919998   \n",
       "4348.0   NaN NaN  77.943199     NaN  NaN   NaN   NaN   NaN  88.925201   \n",
       "4348.5   NaN NaN  77.943199     NaN  NaN   NaN   NaN   NaN  88.930397   \n",
       "4349.0   NaN NaN  77.943199     NaN  NaN   NaN   NaN   NaN  88.969498   \n",
       "4349.5   NaN NaN  77.943199 -0.0569  NaN   NaN   NaN   NaN  89.614197   \n",
       "\n",
       "             DEPT_1  ...  PHID_ATAGA  PHIDF_ATAGA      VSHF  PHIE_ATAGA  \\\n",
       "DEPT                 ...                                                  \n",
       "4347.5  1325.118042  ...         NaN          NaN  0.227323         NaN   \n",
       "4348.0  1325.270386  ...         NaN          NaN  0.227323         NaN   \n",
       "4348.5  1325.422852  ...         NaN          NaN  0.227323         NaN   \n",
       "4349.0  1325.575195  ...         NaN          NaN  0.227323         NaN   \n",
       "4349.5  1325.727539  ...         NaN          NaN  0.227323         NaN   \n",
       "\n",
       "             NTG  F_ATAGA  SWIRR_ATAGA  SW_ATAGA  PERM_ATAGA  PERM_EFF_ATAGA  \n",
       "DEPT                                                                          \n",
       "4347.5  0.772677      NaN          NaN       NaN         NaN             NaN  \n",
       "4348.0  0.772677      NaN          NaN       NaN         NaN             NaN  \n",
       "4348.5  0.772677      NaN          NaN       NaN         NaN             NaN  \n",
       "4349.0  0.772677      NaN          NaN       NaN         NaN             NaN  \n",
       "4349.5  0.772677      NaN          NaN       NaN         NaN             NaN  \n",
       "\n",
       "[5 rows x 25 columns]"
      ]
     },
     "execution_count": 4,
     "metadata": {},
     "output_type": "execute_result"
    }
   ],
   "source": [
    "test_df.head()"
   ]
  },
  {
   "cell_type": "code",
   "execution_count": 5,
   "id": "fae6176d",
   "metadata": {},
   "outputs": [
    {
     "data": {
      "text/plain": [
       "{'Version': [HeaderItem(mnemonic=\"VERS\", unit=\"\", value=\"2.0\", descr=\"\"),\n",
       "  HeaderItem(mnemonic=\"WRAP\", unit=\"\", value=\"NO\", descr=\"\")],\n",
       " 'Well': [HeaderItem(mnemonic=\"STRT\", unit=\"ft\", value=\"4347.5\", descr=\"\"),\n",
       "  HeaderItem(mnemonic=\"STOP\", unit=\"ft\", value=\"14356.0\", descr=\"\"),\n",
       "  HeaderItem(mnemonic=\"STEP\", unit=\"ft\", value=\"0.5\", descr=\"\"),\n",
       "  HeaderItem(mnemonic=\"NULL\", unit=\"\", value=\"-999.25\", descr=\"\"),\n",
       "  HeaderItem(mnemonic=\"COMP\", unit=\"\", value=\"\", descr=\"COMPANY\"),\n",
       "  HeaderItem(mnemonic=\"WELL\", unit=\"\", value=\"ATAGA 5\", descr=\"WELL\"),\n",
       "  HeaderItem(mnemonic=\"FLD\", unit=\"\", value=\"\", descr=\"FIELD\"),\n",
       "  HeaderItem(mnemonic=\"LOC\", unit=\"\", value=\"\", descr=\"LOCATION\"),\n",
       "  HeaderItem(mnemonic=\"SRVC\", unit=\"\", value=\"\", descr=\"SERVICE COMPANY\"),\n",
       "  HeaderItem(mnemonic=\"DATE\", unit=\"\", value=\"2023-11-26 20:43:57   : Log Expo...),\n",
       "  HeaderItem(mnemonic=\"PROV\", unit=\"\", value=\"\", descr=\"PROVINCE\"),\n",
       "  HeaderItem(mnemonic=\"UWI\", unit=\"\", value=\"ATG05\", descr=\"UNIQUE WELL ID\"),\n",
       "  HeaderItem(mnemonic=\"API\", unit=\"\", value=\"\", descr=\"API NUMBER\")],\n",
       " 'Curves': [CurveItem(mnemonic=\"DEPT\", unit=\"ft\", value=\"\", descr=\"DEPTH\", original_mnemonic=\"DEPT\", data.shape=(20018,)),\n",
       "  CurveItem(mnemonic=\"CALI\", unit=\"in\", value=\"\", descr=\"CALI\", original_mnemonic=\"CALI\", data.shape=(20018,)),\n",
       "  CurveItem(mnemonic=\"DT\", unit=\"us/ft\", value=\"\", descr=\"DT\", original_mnemonic=\"DT\", data.shape=(20018,)),\n",
       "  CurveItem(mnemonic=\"GR\", unit=\"gAPI\", value=\"\", descr=\"GR\", original_mnemonic=\"GR\", data.shape=(20018,)),\n",
       "  CurveItem(mnemonic=\"ILD\", unit=\"ohm.m\", value=\"\", descr=\"ILD\", original_mnemonic=\"ILD\", data.shape=(20018,)),\n",
       "  CurveItem(mnemonic=\"LLS\", unit=\"ohm.m\", value=\"\", descr=\"LLS\", original_mnemonic=\"LLS\", data.shape=(20018,)),\n",
       "  CurveItem(mnemonic=\"MSFL\", unit=\"ohm.m\", value=\"\", descr=\"MSFL\", original_mnemonic=\"MSFL\", data.shape=(20018,)),\n",
       "  CurveItem(mnemonic=\"NPHI\", unit=\"ft3/ft3\", value=\"\", descr=\"NPHI\", original_mnemonic=\"NPHI\", data.shape=(20018,)),\n",
       "  CurveItem(mnemonic=\"RHOB\", unit=\"g/cm3\", value=\"\", descr=\"RHOB\", original_mnemonic=\"RHOB\", data.shape=(20018,)),\n",
       "  CurveItem(mnemonic=\"SP\", unit=\"mV\", value=\"\", descr=\"SP\", original_mnemonic=\"SP\", data.shape=(20018,)),\n",
       "  CurveItem(mnemonic=\"DEPT_1\", unit=\"_\", value=\"\", descr=\"DEPT_1\", original_mnemonic=\"DEPT_1\", data.shape=(20018,)),\n",
       "  CurveItem(mnemonic=\"ATAGA_LITHOLOGY\", unit=\"_\", value=\"\", descr=\"ATAGA_LITHOLOGY\", original_mnemonic=\"ATAGA_LITHOLOGY\", data.shape=(20018,)),\n",
       "  CurveItem(mnemonic=\"FLUIDTYPES\", unit=\"_\", value=\"\", descr=\"Fluid TYPES\", original_mnemonic=\"FLUIDTYPES\", data.shape=(20018,)),\n",
       "  CurveItem(mnemonic=\"IGR\", unit=\"_\", value=\"\", descr=\"IGR\", original_mnemonic=\"IGR\", data.shape=(20018,)),\n",
       "  CurveItem(mnemonic=\"VSH\", unit=\"%\", value=\"\", descr=\"Vsh\", original_mnemonic=\"VSH\", data.shape=(20018,)),\n",
       "  CurveItem(mnemonic=\"FL\", unit=\"_\", value=\"\", descr=\"Fl\", original_mnemonic=\"FL\", data.shape=(20018,)),\n",
       "  CurveItem(mnemonic=\"PHID_ATAGA\", unit=\"ft3/ft3\", value=\"\", descr=\"PHID_ATAGA\", original_mnemonic=\"PHID_ATAGA\", data.shape=(20018,)),\n",
       "  CurveItem(mnemonic=\"PHIDF_ATAGA\", unit=\"_\", value=\"\", descr=\"PHIDF_ATAGA\", original_mnemonic=\"PHIDF_ATAGA\", data.shape=(20018,)),\n",
       "  CurveItem(mnemonic=\"VSHF\", unit=\"_\", value=\"\", descr=\"VshF\", original_mnemonic=\"VSHF\", data.shape=(20018,)),\n",
       "  CurveItem(mnemonic=\"PHIE_ATAGA\", unit=\"ft3/ft3\", value=\"\", descr=\"PHIE_ATAGA\", original_mnemonic=\"PHIE_ATAGA\", data.shape=(20018,)),\n",
       "  CurveItem(mnemonic=\"NTG\", unit=\"_\", value=\"\", descr=\"NTG\", original_mnemonic=\"NTG\", data.shape=(20018,)),\n",
       "  CurveItem(mnemonic=\"F_ATAGA\", unit=\"_\", value=\"\", descr=\"F_ATAGA\", original_mnemonic=\"F_ATAGA\", data.shape=(20018,)),\n",
       "  CurveItem(mnemonic=\"SWIRR_ATAGA\", unit=\"_\", value=\"\", descr=\"SWIRR_ATAGA\", original_mnemonic=\"SWIRR_ATAGA\", data.shape=(20018,)),\n",
       "  CurveItem(mnemonic=\"SW_ATAGA\", unit=\"_\", value=\"\", descr=\"SW_ATAGA\", original_mnemonic=\"SW_ATAGA\", data.shape=(20018,)),\n",
       "  CurveItem(mnemonic=\"PERM_ATAGA\", unit=\"mD\", value=\"\", descr=\"PERM_ATAGA\", original_mnemonic=\"PERM_ATAGA\", data.shape=(20018,)),\n",
       "  CurveItem(mnemonic=\"PERM_EFF_ATAGA\", unit=\"mD\", value=\"\", descr=\"PERM_EFF_ATAGA\", original_mnemonic=\"PERM_EFF_ATAGA\", data.shape=(20018,))],\n",
       " 'Parameter': [],\n",
       " 'Other': ''}"
      ]
     },
     "execution_count": 5,
     "metadata": {},
     "output_type": "execute_result"
    }
   ],
   "source": [
    "las.header"
   ]
  },
  {
   "cell_type": "code",
   "execution_count": 6,
   "id": "0c419f09",
   "metadata": {},
   "outputs": [
    {
     "data": {
      "text/plain": [
       "3.0    13437\n",
       "2.0     3492\n",
       "1.0     3068\n",
       "Name: FLUIDTYPES, dtype: int64"
      ]
     },
     "execution_count": 6,
     "metadata": {},
     "output_type": "execute_result"
    }
   ],
   "source": [
    "test_df.FLUIDTYPES.value_counts()"
   ]
  },
  {
   "cell_type": "code",
   "execution_count": 7,
   "id": "ff89a367",
   "metadata": {},
   "outputs": [
    {
     "data": {
      "text/plain": [
       "19997"
      ]
     },
     "execution_count": 7,
     "metadata": {},
     "output_type": "execute_result"
    }
   ],
   "source": [
    "test_df.FLUIDTYPES.value_counts().sum()"
   ]
  },
  {
   "cell_type": "code",
   "execution_count": 8,
   "id": "872735de",
   "metadata": {},
   "outputs": [
    {
     "data": {
      "text/plain": [
       "CALI               float64\n",
       "DT                 float64\n",
       "GR                 float64\n",
       "ILD                float64\n",
       "LLS                float64\n",
       "MSFL               float64\n",
       "NPHI               float64\n",
       "RHOB               float64\n",
       "SP                 float64\n",
       "DEPT_1             float64\n",
       "ATAGA_LITHOLOGY    float64\n",
       "FLUIDTYPES         float64\n",
       "IGR                float64\n",
       "VSH                float64\n",
       "FL                 float64\n",
       "PHID_ATAGA         float64\n",
       "PHIDF_ATAGA        float64\n",
       "VSHF               float64\n",
       "PHIE_ATAGA         float64\n",
       "NTG                float64\n",
       "F_ATAGA            float64\n",
       "SWIRR_ATAGA        float64\n",
       "SW_ATAGA           float64\n",
       "PERM_ATAGA         float64\n",
       "PERM_EFF_ATAGA     float64\n",
       "dtype: object"
      ]
     },
     "execution_count": 8,
     "metadata": {},
     "output_type": "execute_result"
    }
   ],
   "source": [
    "test_df.dtypes"
   ]
  },
  {
   "cell_type": "code",
   "execution_count": 9,
   "id": "46a859d7",
   "metadata": {},
   "outputs": [
    {
     "data": {
      "text/plain": [
       "21"
      ]
     },
     "execution_count": 9,
     "metadata": {},
     "output_type": "execute_result"
    }
   ],
   "source": [
    "test_df.shape[0] - test_df.FLUIDTYPES.value_counts().sum()"
   ]
  },
  {
   "cell_type": "code",
   "execution_count": 10,
   "id": "6d2b8a36",
   "metadata": {},
   "outputs": [
    {
     "data": {
      "text/plain": [
       "20018"
      ]
     },
     "execution_count": 10,
     "metadata": {},
     "output_type": "execute_result"
    }
   ],
   "source": [
    "test_df.shape[0]"
   ]
  },
  {
   "cell_type": "code",
   "execution_count": 11,
   "id": "3400a95f",
   "metadata": {},
   "outputs": [
    {
     "data": {
      "text/plain": [
       "3.0    0.671246\n",
       "2.0    0.174443\n",
       "1.0    0.153262\n",
       "Name: FLUIDTYPES, dtype: float64"
      ]
     },
     "execution_count": 11,
     "metadata": {},
     "output_type": "execute_result"
    }
   ],
   "source": [
    "test_df.FLUIDTYPES.value_counts()/test_df.shape[0]"
   ]
  },
  {
   "cell_type": "code",
   "execution_count": 12,
   "id": "778ba10c",
   "metadata": {},
   "outputs": [
    {
     "data": {
      "text/plain": [
       "CALI               0.695474\n",
       "DT                 0.869917\n",
       "GR                 0.000000\n",
       "ILD                0.051554\n",
       "LLS                0.960985\n",
       "MSFL               0.960735\n",
       "NPHI               0.682086\n",
       "RHOB               0.669947\n",
       "SP                 0.050904\n",
       "DEPT_1             0.000000\n",
       "ATAGA_LITHOLOGY    0.000000\n",
       "FLUIDTYPES         0.001049\n",
       "IGR                0.000000\n",
       "VSH                0.000000\n",
       "FL                 0.000000\n",
       "PHID_ATAGA         0.669947\n",
       "PHIDF_ATAGA        0.669947\n",
       "VSHF               0.000000\n",
       "PHIE_ATAGA         0.669947\n",
       "NTG                0.000000\n",
       "F_ATAGA            0.669947\n",
       "SWIRR_ATAGA        0.669947\n",
       "SW_ATAGA           0.052802\n",
       "PERM_ATAGA         0.669947\n",
       "PERM_EFF_ATAGA     0.669947\n",
       "dtype: float64"
      ]
     },
     "execution_count": 12,
     "metadata": {},
     "output_type": "execute_result"
    }
   ],
   "source": [
    "test_df.isna().sum()/test_df.shape[0]"
   ]
  },
  {
   "cell_type": "code",
   "execution_count": 13,
   "id": "c3ff202d",
   "metadata": {},
   "outputs": [],
   "source": [
    "las1 = pet.read_lasio('../data/train_wells/ataga 07.las')\n",
    "las2 = pet.read_lasio('../data/train_wells/ataga 10.las')\n",
    "las3 = pet.read_lasio('../data/train_wells/ataga 11.las')\n",
    "train_df1 = las1.df()\n",
    "train_df2 = las2.df()\n",
    "train_df3 = las3.df()"
   ]
  },
  {
   "cell_type": "code",
   "execution_count": 14,
   "id": "5021a190",
   "metadata": {},
   "outputs": [],
   "source": [
    "train_df1 = train_df1[[\"GR\", \"RHOB\", \"ILD\", \"SP\", \"NPHI\", \"FLUIDTYPES\"]]\n",
    "train_df2 = train_df2[[\"GR\", \"RHOB\", \"ILD\", \"SP\", \"NPHI\", \"FLUIDTYPES\"]]\n",
    "train_df3 = train_df3[[\"GR\", \"RHOB\", \"ILD\", \"SP\", \"NPHI\", \"FLUIDTYPES\"]]"
   ]
  },
  {
   "cell_type": "code",
   "execution_count": 15,
   "id": "72b61229",
   "metadata": {},
   "outputs": [
    {
     "data": {
      "text/plain": [
       "(61997, 6)"
      ]
     },
     "execution_count": 15,
     "metadata": {},
     "output_type": "execute_result"
    }
   ],
   "source": [
    "train_df = pd.concat((train_df1, train_df2, train_df3))\n",
    "train_df.shape"
   ]
  },
  {
   "cell_type": "code",
   "execution_count": 16,
   "id": "d5e1c454",
   "metadata": {},
   "outputs": [
    {
     "data": {
      "text/plain": [
       "GR            float64\n",
       "RHOB          float64\n",
       "ILD           float64\n",
       "SP            float64\n",
       "NPHI          float64\n",
       "FLUIDTYPES    float64\n",
       "dtype: object"
      ]
     },
     "execution_count": 16,
     "metadata": {},
     "output_type": "execute_result"
    }
   ],
   "source": [
    "train_df.dtypes"
   ]
  },
  {
   "cell_type": "code",
   "execution_count": 17,
   "id": "9b511df8",
   "metadata": {},
   "outputs": [
    {
     "data": {
      "text/plain": [
       "(61997, 6)"
      ]
     },
     "execution_count": 17,
     "metadata": {},
     "output_type": "execute_result"
    }
   ],
   "source": [
    "train_df.shape"
   ]
  },
  {
   "cell_type": "code",
   "execution_count": 18,
   "id": "2b11c62c",
   "metadata": {},
   "outputs": [
    {
     "data": {
      "text/plain": [
       "GR            0.350275\n",
       "RHOB          0.512299\n",
       "ILD           0.328887\n",
       "SP            0.059084\n",
       "NPHI          0.547817\n",
       "FLUIDTYPES    0.149588\n",
       "dtype: float64"
      ]
     },
     "execution_count": 18,
     "metadata": {},
     "output_type": "execute_result"
    }
   ],
   "source": [
    "train_df.isna().sum()/train_df.shape[0]"
   ]
  },
  {
   "cell_type": "code",
   "execution_count": 19,
   "id": "58c5d967",
   "metadata": {},
   "outputs": [],
   "source": [
    "train_df.dropna(subset=['FLUIDTYPES'], inplace = True)"
   ]
  },
  {
   "cell_type": "code",
   "execution_count": 20,
   "id": "15b29c14",
   "metadata": {},
   "outputs": [],
   "source": [
    "train_df.fillna(-999, inplace=True)"
   ]
  },
  {
   "cell_type": "code",
   "execution_count": 21,
   "id": "6addd560",
   "metadata": {},
   "outputs": [
    {
     "data": {
      "text/plain": [
       "GR            0.0\n",
       "RHOB          0.0\n",
       "ILD           0.0\n",
       "SP            0.0\n",
       "NPHI          0.0\n",
       "FLUIDTYPES    0.0\n",
       "dtype: float64"
      ]
     },
     "execution_count": 21,
     "metadata": {},
     "output_type": "execute_result"
    }
   ],
   "source": [
    "train_df.isna().sum()/train_df.shape[0]"
   ]
  },
  {
   "cell_type": "code",
   "execution_count": 22,
   "id": "58f4ada7",
   "metadata": {},
   "outputs": [
    {
     "data": {
      "text/plain": [
       "GR            float64\n",
       "RHOB          float64\n",
       "ILD           float64\n",
       "SP            float64\n",
       "NPHI          float64\n",
       "FLUIDTYPES    float64\n",
       "dtype: object"
      ]
     },
     "execution_count": 22,
     "metadata": {},
     "output_type": "execute_result"
    }
   ],
   "source": [
    "train_df.dtypes"
   ]
  },
  {
   "cell_type": "code",
   "execution_count": 23,
   "id": "d2089a39",
   "metadata": {},
   "outputs": [],
   "source": [
    "labels = train_df.FLUIDTYPES\n",
    "features = train_df.drop('FLUIDTYPES', axis = 1)"
   ]
  },
  {
   "cell_type": "code",
   "execution_count": 24,
   "id": "10a83a63",
   "metadata": {},
   "outputs": [],
   "source": [
    "model_2 = xgb.XGBClassifier(n_estimators =1000, max_depth = 6)"
   ]
  },
  {
   "cell_type": "code",
   "execution_count": 25,
   "id": "6297f86c",
   "metadata": {},
   "outputs": [
    {
     "name": "stderr",
     "output_type": "stream",
     "text": [
      "[Parallel(n_jobs=1)]: Using backend SequentialBackend with 1 concurrent workers.\n",
      "[Parallel(n_jobs=1)]: Done   1 out of   1 | elapsed:    0.0s remaining:    0.0s\n"
     ]
    },
    {
     "name": "stdout",
     "output_type": "stream",
     "text": [
      "building tree 1 of 100\n",
      "building tree 2 of 100\n",
      "building tree 3 of 100\n",
      "building tree 4 of 100\n",
      "building tree 5 of 100\n",
      "building tree 6 of 100\n",
      "building tree 7 of 100\n",
      "building tree 8 of 100\n",
      "building tree 9 of 100\n",
      "building tree 10 of 100\n",
      "building tree 11 of 100\n",
      "building tree 12 of 100\n",
      "building tree 13 of 100\n",
      "building tree 14 of 100\n",
      "building tree 15 of 100\n",
      "building tree 16 of 100\n",
      "building tree 17 of 100\n",
      "building tree 18 of 100\n",
      "building tree 19 of 100\n",
      "building tree 20 of 100\n",
      "building tree 21 of 100\n",
      "building tree 22 of 100\n",
      "building tree 23 of 100\n",
      "building tree 24 of 100\n",
      "building tree 25 of 100\n",
      "building tree 26 of 100\n",
      "building tree 27 of 100\n",
      "building tree 28 of 100\n",
      "building tree 29 of 100\n",
      "building tree 30 of 100\n",
      "building tree 31 of 100\n",
      "building tree 32 of 100\n",
      "building tree 33 of 100\n",
      "building tree 34 of 100\n",
      "building tree 35 of 100\n",
      "building tree 36 of 100\n",
      "building tree 37 of 100\n",
      "building tree 38 of 100\n",
      "building tree 39 of 100\n",
      "building tree 40 of 100\n",
      "building tree 41 of 100\n",
      "building tree 42 of 100\n",
      "building tree 43 of 100\n",
      "building tree 44 of 100\n",
      "building tree 45 of 100\n",
      "building tree 46 of 100\n",
      "building tree 47 of 100\n",
      "building tree 48 of 100\n",
      "building tree 49 of 100\n",
      "building tree 50 of 100\n",
      "building tree 51 of 100\n",
      "building tree 52 of 100\n",
      "building tree 53 of 100\n",
      "building tree 54 of 100\n",
      "building tree 55 of 100\n",
      "building tree 56 of 100\n",
      "building tree 57 of 100\n",
      "building tree 58 of 100\n",
      "building tree 59 of 100\n",
      "building tree 60 of 100\n",
      "building tree 61 of 100\n",
      "building tree 62 of 100\n",
      "building tree 63 of 100\n",
      "building tree 64 of 100\n",
      "building tree 65 of 100\n",
      "building tree 66 of 100\n",
      "building tree 67 of 100\n",
      "building tree 68 of 100\n",
      "building tree 69 of 100\n",
      "building tree 70 of 100\n",
      "building tree 71 of 100\n",
      "building tree 72 of 100\n",
      "building tree 73 of 100\n",
      "building tree 74 of 100\n",
      "building tree 75 of 100\n",
      "building tree 76 of 100\n",
      "building tree 77 of 100\n",
      "building tree 78 of 100\n",
      "building tree 79 of 100\n",
      "building tree 80 of 100\n",
      "building tree 81 of 100\n",
      "building tree 82 of 100\n",
      "building tree 83 of 100\n",
      "building tree 84 of 100\n",
      "building tree 85 of 100\n",
      "building tree 86 of 100\n",
      "building tree 87 of 100\n",
      "building tree 88 of 100\n",
      "building tree 89 of 100\n",
      "building tree 90 of 100\n",
      "building tree 91 of 100\n",
      "building tree 92 of 100\n",
      "building tree 93 of 100\n",
      "building tree 94 of 100\n",
      "building tree 95 of 100\n",
      "building tree 96 of 100\n",
      "building tree 97 of 100\n",
      "building tree 98 of 100\n",
      "building tree 99 of 100\n",
      "building tree 100 of 100\n"
     ]
    },
    {
     "name": "stderr",
     "output_type": "stream",
     "text": [
      "[Parallel(n_jobs=1)]: Done 100 out of 100 | elapsed:    7.8s finished\n"
     ]
    },
    {
     "data": {
      "text/plain": [
       "RandomForestClassifier(verbose=2)"
      ]
     },
     "execution_count": 25,
     "metadata": {},
     "output_type": "execute_result"
    }
   ],
   "source": [
    "model = RandomForestClassifier(n_estimators=100, verbose=2)\n",
    "model.fit(features, labels)"
   ]
  },
  {
   "cell_type": "code",
   "execution_count": 26,
   "id": "17c52478",
   "metadata": {
    "scrolled": true
   },
   "outputs": [
    {
     "name": "stdout",
     "output_type": "stream",
     "text": [
      "[12:13:40] WARNING: C:/Users/Administrator/workspace/xgboost-win64_release_1.4.0/src/learner.cc:1095: Starting in XGBoost 1.3.0, the default evaluation metric used with the objective 'multi:softprob' was changed from 'merror' to 'mlogloss'. Explicitly set eval_metric if you'd like to restore the old behavior.\n"
     ]
    },
    {
     "data": {
      "text/plain": [
       "XGBClassifier(base_score=0.5, booster='gbtree', colsample_bylevel=1,\n",
       "              colsample_bynode=1, colsample_bytree=1, gamma=0, gpu_id=-1,\n",
       "              importance_type='gain', interaction_constraints='',\n",
       "              learning_rate=0.300000012, max_delta_step=0, max_depth=6,\n",
       "              min_child_weight=1, missing=nan, monotone_constraints='()',\n",
       "              n_estimators=1000, n_jobs=8, num_parallel_tree=1,\n",
       "              objective='multi:softprob', random_state=0, reg_alpha=0,\n",
       "              reg_lambda=1, scale_pos_weight=None, subsample=1,\n",
       "              tree_method='exact', validate_parameters=1, verbosity=None)"
      ]
     },
     "execution_count": 26,
     "metadata": {},
     "output_type": "execute_result"
    }
   ],
   "source": [
    "model_2.fit(features, labels)"
   ]
  },
  {
   "cell_type": "code",
   "execution_count": 27,
   "id": "a470aeea",
   "metadata": {},
   "outputs": [
    {
     "data": {
      "text/plain": [
       "3.0    13437\n",
       "2.0     3492\n",
       "1.0     3068\n",
       "Name: FLUIDTYPES, dtype: int64"
      ]
     },
     "execution_count": 27,
     "metadata": {},
     "output_type": "execute_result"
    }
   ],
   "source": [
    "test_df.FLUIDTYPES.value_counts()"
   ]
  },
  {
   "cell_type": "code",
   "execution_count": 28,
   "id": "92979ab8",
   "metadata": {},
   "outputs": [],
   "source": [
    "test_df.FLUIDTYPES.fillna(3, inplace = True)"
   ]
  },
  {
   "cell_type": "code",
   "execution_count": 29,
   "id": "6615bc5a",
   "metadata": {},
   "outputs": [
    {
     "data": {
      "text/plain": [
       "0"
      ]
     },
     "execution_count": 29,
     "metadata": {},
     "output_type": "execute_result"
    }
   ],
   "source": [
    "test_df.FLUIDTYPES.isna().sum()"
   ]
  },
  {
   "cell_type": "code",
   "execution_count": 30,
   "id": "a4b94144",
   "metadata": {},
   "outputs": [
    {
     "data": {
      "text/plain": [
       "3.0    13458\n",
       "2.0     3492\n",
       "1.0     3068\n",
       "Name: FLUIDTYPES, dtype: int64"
      ]
     },
     "execution_count": 30,
     "metadata": {},
     "output_type": "execute_result"
    }
   ],
   "source": [
    "test_df.FLUIDTYPES.value_counts()"
   ]
  },
  {
   "cell_type": "code",
   "execution_count": 31,
   "id": "fddd1642",
   "metadata": {},
   "outputs": [],
   "source": [
    "test_labels = test_df.FLUIDTYPES.values"
   ]
  },
  {
   "cell_type": "code",
   "execution_count": 32,
   "id": "48fc5f9c",
   "metadata": {},
   "outputs": [
    {
     "data": {
      "text/plain": [
       "(20018, 25)"
      ]
     },
     "execution_count": 32,
     "metadata": {},
     "output_type": "execute_result"
    }
   ],
   "source": [
    "test_df.shape"
   ]
  },
  {
   "cell_type": "code",
   "execution_count": 33,
   "id": "ef1eb368",
   "metadata": {},
   "outputs": [
    {
     "data": {
      "text/plain": [
       "CALI               0.695474\n",
       "DT                 0.869917\n",
       "GR                 0.000000\n",
       "ILD                0.051554\n",
       "LLS                0.960985\n",
       "MSFL               0.960735\n",
       "NPHI               0.682086\n",
       "RHOB               0.669947\n",
       "SP                 0.050904\n",
       "DEPT_1             0.000000\n",
       "ATAGA_LITHOLOGY    0.000000\n",
       "FLUIDTYPES         0.000000\n",
       "IGR                0.000000\n",
       "VSH                0.000000\n",
       "FL                 0.000000\n",
       "PHID_ATAGA         0.669947\n",
       "PHIDF_ATAGA        0.669947\n",
       "VSHF               0.000000\n",
       "PHIE_ATAGA         0.669947\n",
       "NTG                0.000000\n",
       "F_ATAGA            0.669947\n",
       "SWIRR_ATAGA        0.669947\n",
       "SW_ATAGA           0.052802\n",
       "PERM_ATAGA         0.669947\n",
       "PERM_EFF_ATAGA     0.669947\n",
       "dtype: float64"
      ]
     },
     "execution_count": 33,
     "metadata": {},
     "output_type": "execute_result"
    }
   ],
   "source": [
    "test_df.isna().sum()/test_df.shape[0]"
   ]
  },
  {
   "cell_type": "code",
   "execution_count": 34,
   "id": "0f5a74a3",
   "metadata": {},
   "outputs": [],
   "source": [
    "test_df = test_df.fillna(-999)"
   ]
  },
  {
   "cell_type": "code",
   "execution_count": 35,
   "id": "44492b8b",
   "metadata": {},
   "outputs": [
    {
     "data": {
      "text/plain": [
       "Index(['GR', 'RHOB', 'ILD', 'SP', 'NPHI', 'FLUIDTYPES'], dtype='object')"
      ]
     },
     "execution_count": 35,
     "metadata": {},
     "output_type": "execute_result"
    }
   ],
   "source": [
    "train_df.columns"
   ]
  },
  {
   "cell_type": "code",
   "execution_count": 36,
   "id": "b911f47c",
   "metadata": {},
   "outputs": [],
   "source": [
    "test_df = test_df[['GR', 'RHOB', 'ILD', 'SP', 'NPHI']]"
   ]
  },
  {
   "cell_type": "code",
   "execution_count": 37,
   "id": "d3e87b87",
   "metadata": {},
   "outputs": [
    {
     "data": {
      "text/plain": [
       "GR      float64\n",
       "RHOB    float64\n",
       "ILD     float64\n",
       "SP      float64\n",
       "NPHI    float64\n",
       "dtype: object"
      ]
     },
     "execution_count": 37,
     "metadata": {},
     "output_type": "execute_result"
    }
   ],
   "source": [
    "test_df.dtypes"
   ]
  },
  {
   "cell_type": "code",
   "execution_count": 38,
   "id": "232e8438",
   "metadata": {},
   "outputs": [
    {
     "name": "stderr",
     "output_type": "stream",
     "text": [
      "[Parallel(n_jobs=1)]: Using backend SequentialBackend with 1 concurrent workers.\n",
      "[Parallel(n_jobs=1)]: Done   1 out of   1 | elapsed:    0.0s remaining:    0.0s\n",
      "[Parallel(n_jobs=1)]: Done 100 out of 100 | elapsed:    0.1s finished\n"
     ]
    }
   ],
   "source": [
    "pred = model.predict(test_df)\n",
    "pred_1 = model_2.predict(test_df)"
   ]
  },
  {
   "cell_type": "code",
   "execution_count": 39,
   "id": "23daec8a",
   "metadata": {},
   "outputs": [],
   "source": [
    "def evaluate_predictions(actual, pred):\n",
    "    print(f'The accuracy of this model is: {sklm.accuracy_score(actual, pred)}')\n",
    "    print(f\"The precision of this model is: {sklm.precision_score(actual, pred, average='weighted')}\")\n",
    "    print(f\"The recall evaluation of this model is: {sklm.recall_score(actual, pred, average='weighted')}\")\n",
    "    print(f\"The f1_score of this model is: {sklm.f1_score(actual, pred, average='weighted')}\")"
   ]
  },
  {
   "cell_type": "code",
   "execution_count": 40,
   "id": "732539d1",
   "metadata": {},
   "outputs": [
    {
     "data": {
      "text/plain": [
       "dtype('float64')"
      ]
     },
     "execution_count": 40,
     "metadata": {},
     "output_type": "execute_result"
    }
   ],
   "source": [
    "test_labels.dtype"
   ]
  },
  {
   "cell_type": "code",
   "execution_count": 41,
   "id": "3ea18501",
   "metadata": {},
   "outputs": [
    {
     "data": {
      "text/plain": [
       "dtype('float64')"
      ]
     },
     "execution_count": 41,
     "metadata": {},
     "output_type": "execute_result"
    }
   ],
   "source": [
    "pred.dtype"
   ]
  },
  {
   "cell_type": "code",
   "execution_count": 42,
   "id": "be992460",
   "metadata": {},
   "outputs": [
    {
     "name": "stdout",
     "output_type": "stream",
     "text": [
      "The accuracy of this model is: 0.9629833150164852\n",
      "The precision of this model is: 0.9639006483429756\n",
      "The recall evaluation of this model is: 0.9629833150164852\n",
      "The f1_score of this model is: 0.9624776207910019\n"
     ]
    }
   ],
   "source": [
    "evaluate_predictions(test_labels, pred)"
   ]
  },
  {
   "cell_type": "code",
   "execution_count": 43,
   "id": "ae8bbe02",
   "metadata": {},
   "outputs": [
    {
     "name": "stdout",
     "output_type": "stream",
     "text": [
      "The accuracy of this model is: 0.9629833150164852\n",
      "The precision of this model is: 0.9639006483429756\n",
      "The recall evaluation of this model is: 0.9629833150164852\n",
      "The f1_score of this model is: 0.9624776207910019\n"
     ]
    }
   ],
   "source": [
    "evaluate_predictions(test_labels.ravel(), pred)"
   ]
  },
  {
   "cell_type": "code",
   "execution_count": 44,
   "id": "f8ba6482",
   "metadata": {},
   "outputs": [
    {
     "name": "stdout",
     "output_type": "stream",
     "text": [
      "The accuracy of this model is: 0.9598361474672794\n",
      "The precision of this model is: 0.962639478748805\n",
      "The recall evaluation of this model is: 0.9598361474672794\n",
      "The f1_score of this model is: 0.9594123120086653\n"
     ]
    }
   ],
   "source": [
    "evaluate_predictions(test_labels, pred_1)"
   ]
  },
  {
   "cell_type": "code",
   "execution_count": 45,
   "id": "7a288179",
   "metadata": {},
   "outputs": [
    {
     "data": {
      "text/plain": [
       "Index(['GR', 'RHOB', 'ILD', 'SP', 'NPHI'], dtype='object')"
      ]
     },
     "execution_count": 45,
     "metadata": {},
     "output_type": "execute_result"
    }
   ],
   "source": [
    "test_df.columns"
   ]
  },
  {
   "cell_type": "code",
   "execution_count": 46,
   "id": "343c2309",
   "metadata": {},
   "outputs": [],
   "source": [
    "test_df[\"Predicted_Fluid\"] = pred\n",
    "test_df[\"FLUIDTYPES\"] = test_labels"
   ]
  },
  {
   "cell_type": "code",
   "execution_count": 47,
   "id": "cc8277ae",
   "metadata": {},
   "outputs": [
    {
     "data": {
      "text/plain": [
       "Index(['GR', 'RHOB', 'ILD', 'SP', 'NPHI', 'Predicted_Fluid', 'FLUIDTYPES'], dtype='object')"
      ]
     },
     "execution_count": 47,
     "metadata": {},
     "output_type": "execute_result"
    }
   ],
   "source": [
    "test_df.columns"
   ]
  },
  {
   "cell_type": "code",
   "execution_count": 48,
   "id": "7ffa0996",
   "metadata": {},
   "outputs": [
    {
     "data": {
      "text/html": [
       "<div>\n",
       "<style scoped>\n",
       "    .dataframe tbody tr th:only-of-type {\n",
       "        vertical-align: middle;\n",
       "    }\n",
       "\n",
       "    .dataframe tbody tr th {\n",
       "        vertical-align: top;\n",
       "    }\n",
       "\n",
       "    .dataframe thead th {\n",
       "        text-align: right;\n",
       "    }\n",
       "</style>\n",
       "<table border=\"1\" class=\"dataframe\">\n",
       "  <thead>\n",
       "    <tr style=\"text-align: right;\">\n",
       "      <th></th>\n",
       "      <th>GR</th>\n",
       "      <th>RHOB</th>\n",
       "      <th>ILD</th>\n",
       "      <th>SP</th>\n",
       "      <th>NPHI</th>\n",
       "      <th>Predicted_Fluid</th>\n",
       "      <th>FLUIDTYPES</th>\n",
       "    </tr>\n",
       "    <tr>\n",
       "      <th>DEPT</th>\n",
       "      <th></th>\n",
       "      <th></th>\n",
       "      <th></th>\n",
       "      <th></th>\n",
       "      <th></th>\n",
       "      <th></th>\n",
       "      <th></th>\n",
       "    </tr>\n",
       "  </thead>\n",
       "  <tbody>\n",
       "    <tr>\n",
       "      <th>4347.5</th>\n",
       "      <td>77.943199</td>\n",
       "      <td>-999.0</td>\n",
       "      <td>-999.0000</td>\n",
       "      <td>88.919998</td>\n",
       "      <td>-999.0</td>\n",
       "      <td>3.0</td>\n",
       "      <td>3.0</td>\n",
       "    </tr>\n",
       "    <tr>\n",
       "      <th>4348.0</th>\n",
       "      <td>77.943199</td>\n",
       "      <td>-999.0</td>\n",
       "      <td>-999.0000</td>\n",
       "      <td>88.925201</td>\n",
       "      <td>-999.0</td>\n",
       "      <td>3.0</td>\n",
       "      <td>3.0</td>\n",
       "    </tr>\n",
       "    <tr>\n",
       "      <th>4348.5</th>\n",
       "      <td>77.943199</td>\n",
       "      <td>-999.0</td>\n",
       "      <td>-999.0000</td>\n",
       "      <td>88.930397</td>\n",
       "      <td>-999.0</td>\n",
       "      <td>3.0</td>\n",
       "      <td>3.0</td>\n",
       "    </tr>\n",
       "    <tr>\n",
       "      <th>4349.0</th>\n",
       "      <td>77.943199</td>\n",
       "      <td>-999.0</td>\n",
       "      <td>-999.0000</td>\n",
       "      <td>88.969498</td>\n",
       "      <td>-999.0</td>\n",
       "      <td>3.0</td>\n",
       "      <td>3.0</td>\n",
       "    </tr>\n",
       "    <tr>\n",
       "      <th>4349.5</th>\n",
       "      <td>77.943199</td>\n",
       "      <td>-999.0</td>\n",
       "      <td>-0.0569</td>\n",
       "      <td>89.614197</td>\n",
       "      <td>-999.0</td>\n",
       "      <td>3.0</td>\n",
       "      <td>3.0</td>\n",
       "    </tr>\n",
       "    <tr>\n",
       "      <th>...</th>\n",
       "      <td>...</td>\n",
       "      <td>...</td>\n",
       "      <td>...</td>\n",
       "      <td>...</td>\n",
       "      <td>...</td>\n",
       "      <td>...</td>\n",
       "      <td>...</td>\n",
       "    </tr>\n",
       "    <tr>\n",
       "      <th>14354.0</th>\n",
       "      <td>77.040001</td>\n",
       "      <td>-999.0</td>\n",
       "      <td>11.0400</td>\n",
       "      <td>-25.639999</td>\n",
       "      <td>-999.0</td>\n",
       "      <td>3.0</td>\n",
       "      <td>3.0</td>\n",
       "    </tr>\n",
       "    <tr>\n",
       "      <th>14354.5</th>\n",
       "      <td>77.460602</td>\n",
       "      <td>-999.0</td>\n",
       "      <td>11.9417</td>\n",
       "      <td>-25.268600</td>\n",
       "      <td>-999.0</td>\n",
       "      <td>3.0</td>\n",
       "      <td>3.0</td>\n",
       "    </tr>\n",
       "    <tr>\n",
       "      <th>14355.0</th>\n",
       "      <td>77.619904</td>\n",
       "      <td>-999.0</td>\n",
       "      <td>12.3800</td>\n",
       "      <td>-24.909599</td>\n",
       "      <td>-999.0</td>\n",
       "      <td>3.0</td>\n",
       "      <td>3.0</td>\n",
       "    </tr>\n",
       "    <tr>\n",
       "      <th>14355.5</th>\n",
       "      <td>77.570000</td>\n",
       "      <td>-999.0</td>\n",
       "      <td>12.4000</td>\n",
       "      <td>-24.680000</td>\n",
       "      <td>-999.0</td>\n",
       "      <td>3.0</td>\n",
       "      <td>3.0</td>\n",
       "    </tr>\n",
       "    <tr>\n",
       "      <th>14356.0</th>\n",
       "      <td>77.389999</td>\n",
       "      <td>-999.0</td>\n",
       "      <td>12.2100</td>\n",
       "      <td>-24.580000</td>\n",
       "      <td>-999.0</td>\n",
       "      <td>3.0</td>\n",
       "      <td>3.0</td>\n",
       "    </tr>\n",
       "  </tbody>\n",
       "</table>\n",
       "<p>20018 rows × 7 columns</p>\n",
       "</div>"
      ],
      "text/plain": [
       "                GR   RHOB       ILD         SP   NPHI  Predicted_Fluid  \\\n",
       "DEPT                                                                     \n",
       "4347.5   77.943199 -999.0 -999.0000  88.919998 -999.0              3.0   \n",
       "4348.0   77.943199 -999.0 -999.0000  88.925201 -999.0              3.0   \n",
       "4348.5   77.943199 -999.0 -999.0000  88.930397 -999.0              3.0   \n",
       "4349.0   77.943199 -999.0 -999.0000  88.969498 -999.0              3.0   \n",
       "4349.5   77.943199 -999.0   -0.0569  89.614197 -999.0              3.0   \n",
       "...            ...    ...       ...        ...    ...              ...   \n",
       "14354.0  77.040001 -999.0   11.0400 -25.639999 -999.0              3.0   \n",
       "14354.5  77.460602 -999.0   11.9417 -25.268600 -999.0              3.0   \n",
       "14355.0  77.619904 -999.0   12.3800 -24.909599 -999.0              3.0   \n",
       "14355.5  77.570000 -999.0   12.4000 -24.680000 -999.0              3.0   \n",
       "14356.0  77.389999 -999.0   12.2100 -24.580000 -999.0              3.0   \n",
       "\n",
       "         FLUIDTYPES  \n",
       "DEPT                 \n",
       "4347.5          3.0  \n",
       "4348.0          3.0  \n",
       "4348.5          3.0  \n",
       "4349.0          3.0  \n",
       "4349.5          3.0  \n",
       "...             ...  \n",
       "14354.0         3.0  \n",
       "14354.5         3.0  \n",
       "14355.0         3.0  \n",
       "14355.5         3.0  \n",
       "14356.0         3.0  \n",
       "\n",
       "[20018 rows x 7 columns]"
      ]
     },
     "execution_count": 48,
     "metadata": {},
     "output_type": "execute_result"
    }
   ],
   "source": [
    "test_df"
   ]
  },
  {
   "cell_type": "code",
   "execution_count": 49,
   "id": "38d50957",
   "metadata": {},
   "outputs": [],
   "source": [
    "def make_facies_log_plot(logs, x1, x2, x3, x4, x5, Depth=False):\n",
    "\n",
    "    logs = logs.fillna(0)\n",
    "    if Depth == False:\n",
    "        logs['Depth'] = logs.index\n",
    "        Depth = 'Depth'\n",
    "        ztop=logs.Depth.min(); zbot=logs.Depth.max()\n",
    "    \n",
    "    else:\n",
    "        logs['Depth'] = logs[Depth]\n",
    "        Depth = 'Depth'\n",
    "        ztop=logs.Depth.min(); zbot=logs.Depth.max()\n",
    "        \n",
    "    logs = logs.sort_values(by='Depth', ascending=True)\n",
    "\n",
    "    facies_colors = [\n",
    "        '#196F3D', '#FF0000', '#00FFFF', '#000000'\n",
    "    ]\n",
    "\n",
    "    facies_labels = [\n",
    "        'Gas', 'Oil', 'Water', 'Undifferentiated'\n",
    "    ]\n",
    "\n",
    "    facies_colormap = {}\n",
    "    for ind, label in enumerate(facies_labels):\n",
    "        facies_colormap[label] = facies_colors[ind]\n",
    "\n",
    "    no = 4\n",
    "    #no = len(list(dict(logs[target].value_counts())))\n",
    "    cmap_facies = colors.ListedColormap(\n",
    "            facies_colors[0 : no], 'indexed'\n",
    "            )\n",
    "\n",
    "    cluster=np.repeat(np.expand_dims(logs['FLUIDTYPES'].values,1), 100, 1)\n",
    "    cluster1=np.repeat(np.expand_dims(logs['Predicted_Fluid'].values,1), 100, 1)\n",
    "    \n",
    "    f, ax = plt.subplots(nrows=1, ncols=7, figsize=(12, 12))\n",
    "    ax[0].plot(logs[x1], logs.Depth, '-g')\n",
    "    ax[1].plot(logs[x2], logs.Depth, '-')\n",
    "    ax[2].plot(logs[x3], logs.Depth, '-', color='0.5')\n",
    "    ax[3].plot(logs[x4], logs.Depth, '-', color='r')\n",
    "    ax[4].plot(logs[x5], logs.Depth, '-', color='black')\n",
    "    im=ax[5].imshow(cluster, interpolation='none', aspect='auto',\n",
    "                    cmap=cmap_facies,vmin=0,vmax=4)\n",
    "    im1=ax[6].imshow(cluster1, interpolation='none', aspect='auto',\n",
    "                    cmap=cmap_facies,vmin=0,vmax=4)\n",
    "    \n",
    "    divider = make_axes_locatable(ax[6])\n",
    "    cax = divider.append_axes(\"right\", size=\"20%\", pad=0.05)\n",
    "    cbar=plt.colorbar(im, cax=cax)\n",
    "    cbar.set_label((50*' ').join([\n",
    "        'Gas', 'Oil', 'Water', 'Undifferentiated'\n",
    "    ]))\n",
    "    cbar.set_ticks(range(0,1)); cbar.set_ticklabels('')\n",
    "    cbar1=plt.colorbar(im1, cax=cax)\n",
    "    cbar1.set_label((50*' ').join([\n",
    "        'Gas', 'Oil', 'Water', 'Undifferentiated'\n",
    "    ]))\n",
    "    cbar1.set_ticks(range(0,1)); cbar1.set_ticklabels('')\n",
    "    \n",
    "    for i in range(len(ax)-2):\n",
    "        ax[i].set_ylim(ztop,zbot)\n",
    "        ax[i].invert_yaxis()\n",
    "        ax[i].grid()\n",
    "        ax[i].locator_params(axis='x', nbins=3)\n",
    "    \n",
    "    ax[0].set_xlabel(x1)\n",
    "    ax[0].set_xlim(0, logs[x1].max())\n",
    "    ax[0].set_ylabel(\"Depth (ft)\")\n",
    "    ax[1].set_xlabel(x2)\n",
    "    ax[1].set_xlim(1.8, logs[x2].max())\n",
    "    ax[2].set_xlabel(x3)\n",
    "    ax[2].set_xlim(0, logs[x3].max())\n",
    "    ax[3].set_xlabel(x4)\n",
    "    ax[3].set_xlim(0, logs[x4].max())\n",
    "    ax[4].set_xlabel(x5)\n",
    "    ax[4].set_xscale('log')\n",
    "    ax[4].set_xlim(logs[x5].min(), logs[x5].max())\n",
    "    ax[5].set_xlabel('Actual Fluid')\n",
    "    ax[6].set_xlabel('Predicted Fluid')\n",
    "    \n",
    "    ax[1].set_yticklabels([]); ax[2].set_yticklabels([]); ax[3].set_yticklabels([])\n",
    "    ax[4].set_yticklabels([]); ax[5].set_yticklabels([]); ax[6].set_yticklabels([])\n",
    "    ax[5].set_xticklabels([]), ax[6].set_xticklabels([])\n",
    "    f.suptitle('Well: ATAGA 5', fontsize=14,y=0.94)\n"
   ]
  },
  {
   "cell_type": "code",
   "execution_count": 50,
   "id": "d34b922c",
   "metadata": {},
   "outputs": [
    {
     "data": {
      "image/png": "[encoded data removed]",
      "text/plain": [
       "<Figure size 864x864 with 8 Axes>"
      ]
     },
     "metadata": {
      "needs_background": "light"
     },
     "output_type": "display_data"
    }
   ],
   "source": [
    "make_facies_log_plot(test_df, \"GR\", \"RHOB\", \"NPHI\", \"SP\", \"ILD\")"
   ]
  },
  {
   "cell_type": "code",
   "execution_count": 51,
   "id": "dcfe9159",
   "metadata": {},
   "outputs": [
    {
     "data": {
      "text/plain": [
       "3.0    0.672295\n",
       "2.0    0.174443\n",
       "1.0    0.153262\n",
       "Name: FLUIDTYPES, dtype: float64"
      ]
     },
     "execution_count": 51,
     "metadata": {},
     "output_type": "execute_result"
    }
   ],
   "source": [
    "test_df.FLUIDTYPES.value_counts()/test_df.shape[0]"
   ]
  },
  {
   "cell_type": "code",
   "execution_count": 78,
   "id": "b1d7c185",
   "metadata": {},
   "outputs": [
    {
     "data": {
      "text/plain": [
       "3.0    0.679538\n",
       "1.0    0.167449\n",
       "2.0    0.153012\n",
       "Name: Predicted_Fluid, dtype: float64"
      ]
     },
     "execution_count": 78,
     "metadata": {},
     "output_type": "execute_result"
    }
   ],
   "source": [
    "test_df.Predicted_Fluid.value_counts()/test_df.shape[0]"
   ]
  },
  {
   "cell_type": "code",
   "execution_count": 79,
   "id": "ab061738",
   "metadata": {},
   "outputs": [],
   "source": [
    "test_df.to_csv('../data/results/ataga_05_predicted_xgb.csv', index=False)"
   ]
  },
  {
   "cell_type": "code",
   "execution_count": 81,
   "id": "18c32393",
   "metadata": {},
   "outputs": [],
   "source": [
    "test_df = pd.read_csv(\"../data/results/ataga_05_predicted_xgb.csv\")"
   ]
  },
  {
   "cell_type": "code",
   "execution_count": 82,
   "id": "3d01277c",
   "metadata": {},
   "outputs": [
    {
     "data": {
      "text/html": [
       "<div>\n",
       "<style scoped>\n",
       "    .dataframe tbody tr th:only-of-type {\n",
       "        vertical-align: middle;\n",
       "    }\n",
       "\n",
       "    .dataframe tbody tr th {\n",
       "        vertical-align: top;\n",
       "    }\n",
       "\n",
       "    .dataframe thead th {\n",
       "        text-align: right;\n",
       "    }\n",
       "</style>\n",
       "<table border=\"1\" class=\"dataframe\">\n",
       "  <thead>\n",
       "    <tr style=\"text-align: right;\">\n",
       "      <th></th>\n",
       "      <th>GR</th>\n",
       "      <th>RHOB</th>\n",
       "      <th>ILD</th>\n",
       "      <th>SP</th>\n",
       "      <th>NPHI</th>\n",
       "      <th>Predicted_Fluid</th>\n",
       "      <th>FLUIDTYPES</th>\n",
       "    </tr>\n",
       "  </thead>\n",
       "  <tbody>\n",
       "    <tr>\n",
       "      <th>0</th>\n",
       "      <td>77.943199</td>\n",
       "      <td>-999.0</td>\n",
       "      <td>-999.0000</td>\n",
       "      <td>88.919998</td>\n",
       "      <td>-999.0</td>\n",
       "      <td>3.0</td>\n",
       "      <td>3.0</td>\n",
       "    </tr>\n",
       "    <tr>\n",
       "      <th>1</th>\n",
       "      <td>77.943199</td>\n",
       "      <td>-999.0</td>\n",
       "      <td>-999.0000</td>\n",
       "      <td>88.925201</td>\n",
       "      <td>-999.0</td>\n",
       "      <td>3.0</td>\n",
       "      <td>3.0</td>\n",
       "    </tr>\n",
       "    <tr>\n",
       "      <th>2</th>\n",
       "      <td>77.943199</td>\n",
       "      <td>-999.0</td>\n",
       "      <td>-999.0000</td>\n",
       "      <td>88.930397</td>\n",
       "      <td>-999.0</td>\n",
       "      <td>3.0</td>\n",
       "      <td>3.0</td>\n",
       "    </tr>\n",
       "    <tr>\n",
       "      <th>3</th>\n",
       "      <td>77.943199</td>\n",
       "      <td>-999.0</td>\n",
       "      <td>-999.0000</td>\n",
       "      <td>88.969498</td>\n",
       "      <td>-999.0</td>\n",
       "      <td>3.0</td>\n",
       "      <td>3.0</td>\n",
       "    </tr>\n",
       "    <tr>\n",
       "      <th>4</th>\n",
       "      <td>77.943199</td>\n",
       "      <td>-999.0</td>\n",
       "      <td>-0.0569</td>\n",
       "      <td>89.614197</td>\n",
       "      <td>-999.0</td>\n",
       "      <td>3.0</td>\n",
       "      <td>3.0</td>\n",
       "    </tr>\n",
       "    <tr>\n",
       "      <th>...</th>\n",
       "      <td>...</td>\n",
       "      <td>...</td>\n",
       "      <td>...</td>\n",
       "      <td>...</td>\n",
       "      <td>...</td>\n",
       "      <td>...</td>\n",
       "      <td>...</td>\n",
       "    </tr>\n",
       "    <tr>\n",
       "      <th>20013</th>\n",
       "      <td>77.040001</td>\n",
       "      <td>-999.0</td>\n",
       "      <td>11.0400</td>\n",
       "      <td>-25.639999</td>\n",
       "      <td>-999.0</td>\n",
       "      <td>3.0</td>\n",
       "      <td>3.0</td>\n",
       "    </tr>\n",
       "    <tr>\n",
       "      <th>20014</th>\n",
       "      <td>77.460602</td>\n",
       "      <td>-999.0</td>\n",
       "      <td>11.9417</td>\n",
       "      <td>-25.268600</td>\n",
       "      <td>-999.0</td>\n",
       "      <td>3.0</td>\n",
       "      <td>3.0</td>\n",
       "    </tr>\n",
       "    <tr>\n",
       "      <th>20015</th>\n",
       "      <td>77.619904</td>\n",
       "      <td>-999.0</td>\n",
       "      <td>12.3800</td>\n",
       "      <td>-24.909599</td>\n",
       "      <td>-999.0</td>\n",
       "      <td>3.0</td>\n",
       "      <td>3.0</td>\n",
       "    </tr>\n",
       "    <tr>\n",
       "      <th>20016</th>\n",
       "      <td>77.570000</td>\n",
       "      <td>-999.0</td>\n",
       "      <td>12.4000</td>\n",
       "      <td>-24.680000</td>\n",
       "      <td>-999.0</td>\n",
       "      <td>3.0</td>\n",
       "      <td>3.0</td>\n",
       "    </tr>\n",
       "    <tr>\n",
       "      <th>20017</th>\n",
       "      <td>77.389999</td>\n",
       "      <td>-999.0</td>\n",
       "      <td>12.2100</td>\n",
       "      <td>-24.580000</td>\n",
       "      <td>-999.0</td>\n",
       "      <td>3.0</td>\n",
       "      <td>3.0</td>\n",
       "    </tr>\n",
       "  </tbody>\n",
       "</table>\n",
       "<p>20018 rows × 7 columns</p>\n",
       "</div>"
      ],
      "text/plain": [
       "              GR   RHOB       ILD         SP   NPHI  Predicted_Fluid  \\\n",
       "0      77.943199 -999.0 -999.0000  88.919998 -999.0              3.0   \n",
       "1      77.943199 -999.0 -999.0000  88.925201 -999.0              3.0   \n",
       "2      77.943199 -999.0 -999.0000  88.930397 -999.0              3.0   \n",
       "3      77.943199 -999.0 -999.0000  88.969498 -999.0              3.0   \n",
       "4      77.943199 -999.0   -0.0569  89.614197 -999.0              3.0   \n",
       "...          ...    ...       ...        ...    ...              ...   \n",
       "20013  77.040001 -999.0   11.0400 -25.639999 -999.0              3.0   \n",
       "20014  77.460602 -999.0   11.9417 -25.268600 -999.0              3.0   \n",
       "20015  77.619904 -999.0   12.3800 -24.909599 -999.0              3.0   \n",
       "20016  77.570000 -999.0   12.4000 -24.680000 -999.0              3.0   \n",
       "20017  77.389999 -999.0   12.2100 -24.580000 -999.0              3.0   \n",
       "\n",
       "       FLUIDTYPES  \n",
       "0             3.0  \n",
       "1             3.0  \n",
       "2             3.0  \n",
       "3             3.0  \n",
       "4             3.0  \n",
       "...           ...  \n",
       "20013         3.0  \n",
       "20014         3.0  \n",
       "20015         3.0  \n",
       "20016         3.0  \n",
       "20017         3.0  \n",
       "\n",
       "[20018 rows x 7 columns]"
      ]
     },
     "execution_count": 82,
     "metadata": {},
     "output_type": "execute_result"
    }
   ],
   "source": [
    "test_df"
   ]
  },
  {
   "cell_type": "markdown",
   "id": "13fe3a66",
   "metadata": {},
   "source": [
    "0 = Gas\n",
    "1 = Oil\n",
    "2 = Water\n",
    "3 = Undifferentiated zone"
   ]
  },
  {
   "cell_type": "code",
   "execution_count": null,
   "id": "ec7b789e",
   "metadata": {},
   "outputs": [],
   "source": []
  }
 ],
 "metadata": {
  "kernelspec": {
   "display_name": "Python 3 (ipykernel)",
   "language": "python",
   "name": "python3"
  },
  "language_info": {
   "codemirror_mode": {
    "name": "ipython",
    "version": 3
   },
   "file_extension": ".py",
   "mimetype": "text/x-python",
   "name": "python",
   "nbconvert_exporter": "python",
   "pygments_lexer": "ipython3",
   "version": "3.8.5"
  }
 },
 "nbformat": 4,
 "nbformat_minor": 5
}
