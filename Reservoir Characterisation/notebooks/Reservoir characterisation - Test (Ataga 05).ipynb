{
 "cells": [
  {
   "cell_type": "code",
   "execution_count": 2,
   "id": "90589346",
   "metadata": {},
   "outputs": [],
   "source": [
    "import petroeval as pet"
   ]
  },
  {
   "cell_type": "code",
   "execution_count": 3,
   "id": "af33397b",
   "metadata": {},
   "outputs": [],
   "source": [
    "import numpy as np\n",
    "import pandas as pd\n",
    "import matplotlib.pyplot as plt\n",
    "import seaborn as sns\n",
    "import matplotlib.colors as colors \n",
    "from mpl_toolkits.axes_grid1 import make_axes_locatable\n",
    "\n",
    "import xgboost as xgb\n",
    "from sklearn.ensemble import RandomForestClassifier\n",
    "import sklearn.metrics as sklm"
   ]
  },
  {
   "cell_type": "markdown",
   "id": "3aee06d3",
   "metadata": {},
   "source": [
    "## Reading Data"
   ]
  },
  {
   "cell_type": "code",
   "execution_count": 4,
   "id": "df1bb1b5",
   "metadata": {},
   "outputs": [],
   "source": [
    "las = pet.read_lasio('../data/train_wells/ataga 05.las')\n",
    "test_df = las.df()"
   ]
  },
  {
   "cell_type": "code",
   "execution_count": 5,
   "id": "67df9c4d",
   "metadata": {},
   "outputs": [
    {
     "data": {
      "text/html": [
       "<div>\n",
       "<style scoped>\n",
       "    .dataframe tbody tr th:only-of-type {\n",
       "        vertical-align: middle;\n",
       "    }\n",
       "\n",
       "    .dataframe tbody tr th {\n",
       "        vertical-align: top;\n",
       "    }\n",
       "\n",
       "    .dataframe thead th {\n",
       "        text-align: right;\n",
       "    }\n",
       "</style>\n",
       "<table border=\"1\" class=\"dataframe\">\n",
       "  <thead>\n",
       "    <tr style=\"text-align: right;\">\n",
       "      <th></th>\n",
       "      <th>CALI</th>\n",
       "      <th>DT</th>\n",
       "      <th>GR</th>\n",
       "      <th>ILD</th>\n",
       "      <th>LLS</th>\n",
       "      <th>MSFL</th>\n",
       "      <th>NPHI</th>\n",
       "      <th>RHOB</th>\n",
       "      <th>SP</th>\n",
       "      <th>DEPT_1</th>\n",
       "      <th>...</th>\n",
       "      <th>PHID_ATAGA</th>\n",
       "      <th>PHIDF_ATAGA</th>\n",
       "      <th>VSHF</th>\n",
       "      <th>PHIE_ATAGA</th>\n",
       "      <th>NTG</th>\n",
       "      <th>F_ATAGA</th>\n",
       "      <th>SWIRR_ATAGA</th>\n",
       "      <th>SW_ATAGA</th>\n",
       "      <th>PERM_ATAGA</th>\n",
       "      <th>PERM_EFF_ATAGA</th>\n",
       "    </tr>\n",
       "    <tr>\n",
       "      <th>DEPT</th>\n",
       "      <th></th>\n",
       "      <th></th>\n",
       "      <th></th>\n",
       "      <th></th>\n",
       "      <th></th>\n",
       "      <th></th>\n",
       "      <th></th>\n",
       "      <th></th>\n",
       "      <th></th>\n",
       "      <th></th>\n",
       "      <th></th>\n",
       "      <th></th>\n",
       "      <th></th>\n",
       "      <th></th>\n",
       "      <th></th>\n",
       "      <th></th>\n",
       "      <th></th>\n",
       "      <th></th>\n",
       "      <th></th>\n",
       "      <th></th>\n",
       "      <th></th>\n",
       "    </tr>\n",
       "  </thead>\n",
       "  <tbody>\n",
       "    <tr>\n",
       "      <th>4347.5</th>\n",
       "      <td>NaN</td>\n",
       "      <td>NaN</td>\n",
       "      <td>77.943199</td>\n",
       "      <td>NaN</td>\n",
       "      <td>NaN</td>\n",
       "      <td>NaN</td>\n",
       "      <td>NaN</td>\n",
       "      <td>NaN</td>\n",
       "      <td>88.919998</td>\n",
       "      <td>1325.118042</td>\n",
       "      <td>...</td>\n",
       "      <td>NaN</td>\n",
       "      <td>NaN</td>\n",
       "      <td>0.227323</td>\n",
       "      <td>NaN</td>\n",
       "      <td>0.772677</td>\n",
       "      <td>NaN</td>\n",
       "      <td>NaN</td>\n",
       "      <td>NaN</td>\n",
       "      <td>NaN</td>\n",
       "      <td>NaN</td>\n",
       "    </tr>\n",
       "    <tr>\n",
       "      <th>4348.0</th>\n",
       "      <td>NaN</td>\n",
       "      <td>NaN</td>\n",
       "      <td>77.943199</td>\n",
       "      <td>NaN</td>\n",
       "      <td>NaN</td>\n",
       "      <td>NaN</td>\n",
       "      <td>NaN</td>\n",
       "      <td>NaN</td>\n",
       "      <td>88.925201</td>\n",
       "      <td>1325.270386</td>\n",
       "      <td>...</td>\n",
       "      <td>NaN</td>\n",
       "      <td>NaN</td>\n",
       "      <td>0.227323</td>\n",
       "      <td>NaN</td>\n",
       "      <td>0.772677</td>\n",
       "      <td>NaN</td>\n",
       "      <td>NaN</td>\n",
       "      <td>NaN</td>\n",
       "      <td>NaN</td>\n",
       "      <td>NaN</td>\n",
       "    </tr>\n",
       "    <tr>\n",
       "      <th>4348.5</th>\n",
       "      <td>NaN</td>\n",
       "      <td>NaN</td>\n",
       "      <td>77.943199</td>\n",
       "      <td>NaN</td>\n",
       "      <td>NaN</td>\n",
       "      <td>NaN</td>\n",
       "      <td>NaN</td>\n",
       "      <td>NaN</td>\n",
       "      <td>88.930397</td>\n",
       "      <td>1325.422852</td>\n",
       "      <td>...</td>\n",
       "      <td>NaN</td>\n",
       "      <td>NaN</td>\n",
       "      <td>0.227323</td>\n",
       "      <td>NaN</td>\n",
       "      <td>0.772677</td>\n",
       "      <td>NaN</td>\n",
       "      <td>NaN</td>\n",
       "      <td>NaN</td>\n",
       "      <td>NaN</td>\n",
       "      <td>NaN</td>\n",
       "    </tr>\n",
       "    <tr>\n",
       "      <th>4349.0</th>\n",
       "      <td>NaN</td>\n",
       "      <td>NaN</td>\n",
       "      <td>77.943199</td>\n",
       "      <td>NaN</td>\n",
       "      <td>NaN</td>\n",
       "      <td>NaN</td>\n",
       "      <td>NaN</td>\n",
       "      <td>NaN</td>\n",
       "      <td>88.969498</td>\n",
       "      <td>1325.575195</td>\n",
       "      <td>...</td>\n",
       "      <td>NaN</td>\n",
       "      <td>NaN</td>\n",
       "      <td>0.227323</td>\n",
       "      <td>NaN</td>\n",
       "      <td>0.772677</td>\n",
       "      <td>NaN</td>\n",
       "      <td>NaN</td>\n",
       "      <td>NaN</td>\n",
       "      <td>NaN</td>\n",
       "      <td>NaN</td>\n",
       "    </tr>\n",
       "    <tr>\n",
       "      <th>4349.5</th>\n",
       "      <td>NaN</td>\n",
       "      <td>NaN</td>\n",
       "      <td>77.943199</td>\n",
       "      <td>-0.0569</td>\n",
       "      <td>NaN</td>\n",
       "      <td>NaN</td>\n",
       "      <td>NaN</td>\n",
       "      <td>NaN</td>\n",
       "      <td>89.614197</td>\n",
       "      <td>1325.727539</td>\n",
       "      <td>...</td>\n",
       "      <td>NaN</td>\n",
       "      <td>NaN</td>\n",
       "      <td>0.227323</td>\n",
       "      <td>NaN</td>\n",
       "      <td>0.772677</td>\n",
       "      <td>NaN</td>\n",
       "      <td>NaN</td>\n",
       "      <td>NaN</td>\n",
       "      <td>NaN</td>\n",
       "      <td>NaN</td>\n",
       "    </tr>\n",
       "  </tbody>\n",
       "</table>\n",
       "<p>5 rows × 25 columns</p>\n",
       "</div>"
      ],
      "text/plain": [
       "        CALI  DT         GR     ILD  LLS  MSFL  NPHI  RHOB         SP  \\\n",
       "DEPT                                                                    \n",
       "4347.5   NaN NaN  77.943199     NaN  NaN   NaN   NaN   NaN  88.919998   \n",
       "4348.0   NaN NaN  77.943199     NaN  NaN   NaN   NaN   NaN  88.925201   \n",
       "4348.5   NaN NaN  77.943199     NaN  NaN   NaN   NaN   NaN  88.930397   \n",
       "4349.0   NaN NaN  77.943199     NaN  NaN   NaN   NaN   NaN  88.969498   \n",
       "4349.5   NaN NaN  77.943199 -0.0569  NaN   NaN   NaN   NaN  89.614197   \n",
       "\n",
       "             DEPT_1  ...  PHID_ATAGA  PHIDF_ATAGA      VSHF  PHIE_ATAGA  \\\n",
       "DEPT                 ...                                                  \n",
       "4347.5  1325.118042  ...         NaN          NaN  0.227323         NaN   \n",
       "4348.0  1325.270386  ...         NaN          NaN  0.227323         NaN   \n",
       "4348.5  1325.422852  ...         NaN          NaN  0.227323         NaN   \n",
       "4349.0  1325.575195  ...         NaN          NaN  0.227323         NaN   \n",
       "4349.5  1325.727539  ...         NaN          NaN  0.227323         NaN   \n",
       "\n",
       "             NTG  F_ATAGA  SWIRR_ATAGA  SW_ATAGA  PERM_ATAGA  PERM_EFF_ATAGA  \n",
       "DEPT                                                                          \n",
       "4347.5  0.772677      NaN          NaN       NaN         NaN             NaN  \n",
       "4348.0  0.772677      NaN          NaN       NaN         NaN             NaN  \n",
       "4348.5  0.772677      NaN          NaN       NaN         NaN             NaN  \n",
       "4349.0  0.772677      NaN          NaN       NaN         NaN             NaN  \n",
       "4349.5  0.772677      NaN          NaN       NaN         NaN             NaN  \n",
       "\n",
       "[5 rows x 25 columns]"
      ]
     },
     "execution_count": 5,
     "metadata": {},
     "output_type": "execute_result"
    }
   ],
   "source": [
    "test_df.head()"
   ]
  },
  {
   "cell_type": "code",
   "execution_count": 16,
   "id": "354955be",
   "metadata": {},
   "outputs": [],
   "source": [
    "test_df = test_df[['ILD','SP', 'GR', 'NPHI', 'RHOB', 'FLUIDTYPES']]"
   ]
  },
  {
   "cell_type": "code",
   "execution_count": 7,
   "id": "1bcd62c5",
   "metadata": {},
   "outputs": [],
   "source": [
    "las1 = pet.read_lasio('../data/train_wells/ataga 07.las')\n",
    "las2 = pet.read_lasio('../data/train_wells/ataga 10.las')\n",
    "las3 = pet.read_lasio('../data/train_wells/ataga 11.las')"
   ]
  },
  {
   "cell_type": "code",
   "execution_count": 8,
   "id": "86cd2f27",
   "metadata": {},
   "outputs": [],
   "source": [
    "train_df1 = las1.df()\n",
    "train_df2 = las2.df()\n",
    "train_df3 = las3.df()"
   ]
  },
  {
   "cell_type": "code",
   "execution_count": 9,
   "id": "d8c72327",
   "metadata": {},
   "outputs": [
    {
     "data": {
      "text/plain": [
       "Index(['CALI', 'GR', 'ILD', 'NPHI', 'RHOB', 'SP', 'DEPT_1', 'ATAGA_LITHOLOGY',\n",
       "       'FLUIDTYPES', 'IGR', 'VSH', 'FL', 'PHID_ATAGA', 'PHIDF_ATAGA', 'VSHF',\n",
       "       'PHIE_ATAGA', 'NTG', 'F_ATAGA', 'SWIRR_ATAGA', 'SW_ATAGA', 'PERM_ATAGA',\n",
       "       'PERM_EFF_ATAGA'],\n",
       "      dtype='object')"
      ]
     },
     "execution_count": 9,
     "metadata": {},
     "output_type": "execute_result"
    }
   ],
   "source": [
    "#Displaying all the colomns withing the dataframe\n",
    "train_df1.columns"
   ]
  },
  {
   "cell_type": "code",
   "execution_count": 10,
   "id": "ed5b1ad1",
   "metadata": {},
   "outputs": [],
   "source": [
    "#Choosing only the dataframes needed\n",
    "train_df1 = train_df1[['ILD','SP', 'GR', 'NPHI', 'RHOB', 'FLUIDTYPES']]\n",
    "train_df2 = train_df2[['ILD','SP', 'GR', 'NPHI', 'RHOB', 'FLUIDTYPES']]\n",
    "train_df3 = train_df3[['ILD','SP', 'GR', 'NPHI', 'RHOB', 'FLUIDTYPES']]"
   ]
  },
  {
   "cell_type": "code",
   "execution_count": 13,
   "id": "5c1eb523",
   "metadata": {},
   "outputs": [],
   "source": [
    "train_df = pd.concat((train_df1, train_df2, train_df3))"
   ]
  },
  {
   "cell_type": "code",
   "execution_count": 15,
   "id": "7cbf805e",
   "metadata": {},
   "outputs": [
    {
     "data": {
      "text/html": [
       "<div>\n",
       "<style scoped>\n",
       "    .dataframe tbody tr th:only-of-type {\n",
       "        vertical-align: middle;\n",
       "    }\n",
       "\n",
       "    .dataframe tbody tr th {\n",
       "        vertical-align: top;\n",
       "    }\n",
       "\n",
       "    .dataframe thead th {\n",
       "        text-align: right;\n",
       "    }\n",
       "</style>\n",
       "<table border=\"1\" class=\"dataframe\">\n",
       "  <thead>\n",
       "    <tr style=\"text-align: right;\">\n",
       "      <th></th>\n",
       "      <th>ILD</th>\n",
       "      <th>SP</th>\n",
       "      <th>GR</th>\n",
       "      <th>NPHI</th>\n",
       "      <th>RHOB</th>\n",
       "      <th>FLUIDTYPES</th>\n",
       "    </tr>\n",
       "    <tr>\n",
       "      <th>DEPT</th>\n",
       "      <th></th>\n",
       "      <th></th>\n",
       "      <th></th>\n",
       "      <th></th>\n",
       "      <th></th>\n",
       "      <th></th>\n",
       "    </tr>\n",
       "  </thead>\n",
       "  <tbody>\n",
       "    <tr>\n",
       "      <th>3445.5</th>\n",
       "      <td>32.172798</td>\n",
       "      <td>121.334999</td>\n",
       "      <td>NaN</td>\n",
       "      <td>NaN</td>\n",
       "      <td>NaN</td>\n",
       "      <td>NaN</td>\n",
       "    </tr>\n",
       "    <tr>\n",
       "      <th>3446.0</th>\n",
       "      <td>30.455200</td>\n",
       "      <td>121.351898</td>\n",
       "      <td>NaN</td>\n",
       "      <td>NaN</td>\n",
       "      <td>NaN</td>\n",
       "      <td>3.0</td>\n",
       "    </tr>\n",
       "    <tr>\n",
       "      <th>3446.5</th>\n",
       "      <td>23.140900</td>\n",
       "      <td>120.771004</td>\n",
       "      <td>NaN</td>\n",
       "      <td>NaN</td>\n",
       "      <td>NaN</td>\n",
       "      <td>3.0</td>\n",
       "    </tr>\n",
       "    <tr>\n",
       "      <th>3447.0</th>\n",
       "      <td>20.089199</td>\n",
       "      <td>119.592300</td>\n",
       "      <td>NaN</td>\n",
       "      <td>NaN</td>\n",
       "      <td>NaN</td>\n",
       "      <td>3.0</td>\n",
       "    </tr>\n",
       "    <tr>\n",
       "      <th>3447.5</th>\n",
       "      <td>18.907801</td>\n",
       "      <td>118.413597</td>\n",
       "      <td>NaN</td>\n",
       "      <td>NaN</td>\n",
       "      <td>NaN</td>\n",
       "      <td>3.0</td>\n",
       "    </tr>\n",
       "  </tbody>\n",
       "</table>\n",
       "</div>"
      ],
      "text/plain": [
       "              ILD          SP  GR  NPHI  RHOB  FLUIDTYPES\n",
       "DEPT                                                     \n",
       "3445.5  32.172798  121.334999 NaN   NaN   NaN         NaN\n",
       "3446.0  30.455200  121.351898 NaN   NaN   NaN         3.0\n",
       "3446.5  23.140900  120.771004 NaN   NaN   NaN         3.0\n",
       "3447.0  20.089199  119.592300 NaN   NaN   NaN         3.0\n",
       "3447.5  18.907801  118.413597 NaN   NaN   NaN         3.0"
      ]
     },
     "execution_count": 15,
     "metadata": {},
     "output_type": "execute_result"
    }
   ],
   "source": [
    "train_df.head()"
   ]
  },
  {
   "cell_type": "code",
   "execution_count": 17,
   "id": "91639a76",
   "metadata": {},
   "outputs": [
    {
     "data": {
      "text/plain": [
       "(61997, 6)"
      ]
     },
     "execution_count": 17,
     "metadata": {},
     "output_type": "execute_result"
    }
   ],
   "source": [
    "train_df.shape"
   ]
  },
  {
   "cell_type": "code",
   "execution_count": 18,
   "id": "1f402b38",
   "metadata": {},
   "outputs": [
    {
     "data": {
      "text/plain": [
       "(20018, 6)"
      ]
     },
     "execution_count": 18,
     "metadata": {},
     "output_type": "execute_result"
    }
   ],
   "source": [
    "test_df.shape"
   ]
  },
  {
   "cell_type": "markdown",
   "id": "311e456e",
   "metadata": {},
   "source": [
    "## CLEANING DATA FOR EDA"
   ]
  },
  {
   "cell_type": "code",
   "execution_count": 22,
   "id": "0b7503b2",
   "metadata": {},
   "outputs": [
    {
     "data": {
      "text/plain": [
       "ILD           0.328887\n",
       "SP            0.059084\n",
       "GR            0.350275\n",
       "NPHI          0.547817\n",
       "RHOB          0.512299\n",
       "FLUIDTYPES    0.149588\n",
       "dtype: float64"
      ]
     },
     "execution_count": 22,
     "metadata": {},
     "output_type": "execute_result"
    }
   ],
   "source": [
    "#Determine the percentage of missing values in the train data\n",
    "\n",
    "train_df.isna().sum()/train_df.shape[0]"
   ]
  },
  {
   "cell_type": "code",
   "execution_count": 24,
   "id": "54e98ef9",
   "metadata": {},
   "outputs": [
    {
     "data": {
      "text/plain": [
       "ILD           0.051554\n",
       "SP            0.050904\n",
       "GR            0.000000\n",
       "NPHI          0.682086\n",
       "RHOB          0.669947\n",
       "FLUIDTYPES    0.001049\n",
       "dtype: float64"
      ]
     },
     "execution_count": 24,
     "metadata": {},
     "output_type": "execute_result"
    }
   ],
   "source": [
    "#Determine the percentage of missing values in the test data\n",
    "\n",
    "test_df.isna().sum()/test_df.shape[0]"
   ]
  },
  {
   "cell_type": "code",
   "execution_count": 37,
   "id": "dd673db2",
   "metadata": {},
   "outputs": [
    {
     "data": {
      "text/plain": [
       "3.0    13437\n",
       "2.0     3492\n",
       "1.0     3068\n",
       "Name: FLUIDTYPES, dtype: int64"
      ]
     },
     "execution_count": 37,
     "metadata": {},
     "output_type": "execute_result"
    }
   ],
   "source": [
    "test_df.FLUIDTYPES.value_counts()"
   ]
  },
  {
   "cell_type": "code",
   "execution_count": 38,
   "id": "c8281495",
   "metadata": {},
   "outputs": [
    {
     "data": {
      "text/plain": [
       "3.0    23326\n",
       "1.0    17410\n",
       "2.0    11552\n",
       "0.0      435\n",
       "Name: FLUIDTYPES, dtype: int64"
      ]
     },
     "execution_count": 38,
     "metadata": {},
     "output_type": "execute_result"
    }
   ],
   "source": [
    "train_df.FLUIDTYPES.value_counts()"
   ]
  },
  {
   "cell_type": "code",
   "execution_count": 39,
   "id": "5a6fcd44",
   "metadata": {},
   "outputs": [
    {
     "data": {
      "text/plain": [
       "9274"
      ]
     },
     "execution_count": 39,
     "metadata": {},
     "output_type": "execute_result"
    }
   ],
   "source": [
    "train_df.shape[0] - train_df.FLUIDTYPES.value_counts().sum()"
   ]
  },
  {
   "cell_type": "code",
   "execution_count": 40,
   "id": "b068052d",
   "metadata": {},
   "outputs": [
    {
     "data": {
      "text/plain": [
       "21"
      ]
     },
     "execution_count": 40,
     "metadata": {},
     "output_type": "execute_result"
    }
   ],
   "source": [
    "test_df.shape[0] - test_df.FLUIDTYPES.value_counts().sum()"
   ]
  },
  {
   "cell_type": "code",
   "execution_count": 43,
   "id": "5305a374",
   "metadata": {},
   "outputs": [
    {
     "data": {
      "text/plain": [
       "3.0    0.376244\n",
       "1.0    0.280820\n",
       "2.0    0.186332\n",
       "0.0    0.007016\n",
       "Name: FLUIDTYPES, dtype: float64"
      ]
     },
     "execution_count": 43,
     "metadata": {},
     "output_type": "execute_result"
    }
   ],
   "source": [
    "#Finding the percentage of individual fluidtypes \n",
    "\n",
    "train_df.FLUIDTYPES.value_counts()/train_df.shape[0]"
   ]
  },
  {
   "cell_type": "code",
   "execution_count": 44,
   "id": "10e67812",
   "metadata": {},
   "outputs": [
    {
     "data": {
      "text/plain": [
       "3.0    0.671246\n",
       "2.0    0.174443\n",
       "1.0    0.153262\n",
       "Name: FLUIDTYPES, dtype: float64"
      ]
     },
     "execution_count": 44,
     "metadata": {},
     "output_type": "execute_result"
    }
   ],
   "source": [
    "#Finding the percentage of individual fluidtypes in test dataframe \n",
    "\n",
    "test_df.FLUIDTYPES.value_counts()/test_df.shape[0]"
   ]
  },
  {
   "cell_type": "code",
   "execution_count": 49,
   "id": "35c3dcaf",
   "metadata": {},
   "outputs": [
    {
     "data": {
      "text/plain": [
       "ILD           float64\n",
       "SP            float64\n",
       "GR            float64\n",
       "NPHI          float64\n",
       "RHOB          float64\n",
       "FLUIDTYPES    float64\n",
       "dtype: object"
      ]
     },
     "execution_count": 49,
     "metadata": {},
     "output_type": "execute_result"
    }
   ],
   "source": [
    "#Identify which type of data we are working with \n",
    "\n",
    "train_df.dtypes"
   ]
  },
  {
   "cell_type": "code",
   "execution_count": 50,
   "id": "22ab56b9",
   "metadata": {},
   "outputs": [
    {
     "data": {
      "text/plain": [
       "ILD           float64\n",
       "SP            float64\n",
       "GR            float64\n",
       "NPHI          float64\n",
       "RHOB          float64\n",
       "FLUIDTYPES    float64\n",
       "dtype: object"
      ]
     },
     "execution_count": 50,
     "metadata": {},
     "output_type": "execute_result"
    }
   ],
   "source": [
    "test_df.dtypes"
   ]
  },
  {
   "cell_type": "code",
   "execution_count": 58,
   "id": "4d4f20d9",
   "metadata": {},
   "outputs": [],
   "source": [
    "#Using the 'dropna' function to remove the missing values in the FLUIDTYPES colomn. \n",
    "#This is because we don't want the filler numbers to distort the target values we will be training our models with. \n",
    "\n",
    "train_df.dropna(subset=['FLUIDTYPES'], inplace = True)\n"
   ]
  },
  {
   "cell_type": "code",
   "execution_count": 59,
   "id": "f92ccae8",
   "metadata": {},
   "outputs": [
    {
     "data": {
      "text/plain": [
       "ILD           0.211027\n",
       "SP            0.067105\n",
       "GR            0.236348\n",
       "NPHI          0.468562\n",
       "RHOB          0.426816\n",
       "FLUIDTYPES    0.000000\n",
       "dtype: float64"
      ]
     },
     "execution_count": 59,
     "metadata": {},
     "output_type": "execute_result"
    }
   ],
   "source": [
    "train_df.isna().sum()/train_df.shape[0]"
   ]
  },
  {
   "cell_type": "code",
   "execution_count": 60,
   "id": "38b16917",
   "metadata": {},
   "outputs": [],
   "source": [
    "test_df.dropna(subset=['FLUIDTYPES'], inplace = True)"
   ]
  },
  {
   "cell_type": "code",
   "execution_count": 61,
   "id": "88b69ae4",
   "metadata": {},
   "outputs": [
    {
     "data": {
      "text/plain": [
       "ILD           0.051408\n",
       "SP            0.050958\n",
       "GR            0.000000\n",
       "NPHI          0.681752\n",
       "RHOB          0.669600\n",
       "FLUIDTYPES    0.000000\n",
       "dtype: float64"
      ]
     },
     "execution_count": 61,
     "metadata": {},
     "output_type": "execute_result"
    }
   ],
   "source": [
    "test_df.isna().sum()/test_df.shape[0]"
   ]
  },
  {
   "cell_type": "code",
   "execution_count": 63,
   "id": "2dc846f5",
   "metadata": {},
   "outputs": [],
   "source": [
    "#Filling the remaining missing values\n",
    "\n",
    "train_df.fillna(-999, inplace = True)"
   ]
  },
  {
   "cell_type": "code",
   "execution_count": 64,
   "id": "458cdee1",
   "metadata": {},
   "outputs": [],
   "source": [
    "test_df.fillna(-999, inplace = True)"
   ]
  },
  {
   "cell_type": "code",
   "execution_count": 65,
   "id": "927c6557",
   "metadata": {},
   "outputs": [
    {
     "data": {
      "text/plain": [
       "ILD           0.0\n",
       "SP            0.0\n",
       "GR            0.0\n",
       "NPHI          0.0\n",
       "RHOB          0.0\n",
       "FLUIDTYPES    0.0\n",
       "dtype: float64"
      ]
     },
     "execution_count": 65,
     "metadata": {},
     "output_type": "execute_result"
    }
   ],
   "source": [
    "train_df.isna().sum()/train_df.shape[0]"
   ]
  },
  {
   "cell_type": "code",
   "execution_count": 66,
   "id": "0b821605",
   "metadata": {},
   "outputs": [
    {
     "data": {
      "text/plain": [
       "ILD           0.0\n",
       "SP            0.0\n",
       "GR            0.0\n",
       "NPHI          0.0\n",
       "RHOB          0.0\n",
       "FLUIDTYPES    0.0\n",
       "dtype: float64"
      ]
     },
     "execution_count": 66,
     "metadata": {},
     "output_type": "execute_result"
    }
   ],
   "source": [
    "test_df.isna().sum()/test_df.shape[0]"
   ]
  },
  {
   "cell_type": "code",
   "execution_count": null,
   "id": "4dec5413",
   "metadata": {},
   "outputs": [],
   "source": []
  }
 ],
 "metadata": {
  "kernelspec": {
   "display_name": "Python 3 (ipykernel)",
   "language": "python",
   "name": "python3"
  },
  "language_info": {
   "codemirror_mode": {
    "name": "ipython",
    "version": 3
   },
   "file_extension": ".py",
   "mimetype": "text/x-python",
   "name": "python",
   "nbconvert_exporter": "python",
   "pygments_lexer": "ipython3",
   "version": "3.8.5"
  }
 },
 "nbformat": 4,
 "nbformat_minor": 5
}
